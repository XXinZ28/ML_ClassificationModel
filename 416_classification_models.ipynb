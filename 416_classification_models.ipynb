{
  "nbformat": 4,
  "nbformat_minor": 0,
  "metadata": {
    "colab": {
      "provenance": [],
      "toc_visible": true
    },
    "kernelspec": {
      "name": "python3",
      "display_name": "Python 3"
    },
    "language_info": {
      "name": "python"
    }
  },
  "cells": [
    {
      "cell_type": "markdown",
      "source": [
        "# **Kaggle HW5: [xxtz28]**"
      ],
      "metadata": {
        "id": "mPZLxHG7N9mu"
      }
    },
    {
      "cell_type": "markdown",
      "source": [
        "**Remember to write your team name above, which MUST match your team name on Kaggle!!** Assignments without a team name will receive a 0/40 on the \"accuracy on test data\" component of this assignment's grade."
      ],
      "metadata": {
        "id": "lRZ0yjtqYELC"
      }
    },
    {
      "cell_type": "markdown",
      "source": [
        "### **Load the Data**"
      ],
      "metadata": {
        "id": "lwnjXjk4B41V"
      }
    },
    {
      "cell_type": "code",
      "metadata": {
        "id": "4WRff5x-3TYI"
      },
      "source": [
        "# This cell is necessary only if you are running on Google Colab. It downloads the files to your\n",
        "# Colab instance so you don't have to upload them here.\n",
        "\n",
        "import requests\n",
        "\n",
        "def save_file(url, file_name):\n",
        "    r = requests.get(url)\n",
        "    with open(file_name, 'wb') as f:\n",
        "      f.write(r.content)\n",
        "\n",
        "save_file('https://courses.cs.washington.edu/courses/cse416/23sp/homeworks/hw5/edx_train.csv',\n",
        "          'edx_train.csv')\n",
        "save_file('https://courses.cs.washington.edu/courses/cse416/23sp/homeworks/hw5/edx_test.csv',\n",
        "          'edx_test.csv')"
      ],
      "execution_count": null,
      "outputs": []
    },
    {
      "cell_type": "markdown",
      "source": [
        "### **Sample Code: Random Classifier**\n",
        "\n",
        "**NOTE**: This classifier **DOES NOT** count as one of the 2 required for this assignment! It is merely here to illstrate how to submit your predictions.\n",
        "\n",
        "See the Kaggle assignment (Data tab) for a description of each column in the dataset. You are creating a classifier to predict whether or not a student will get certified, stored in the `\"certified\"` column."
      ],
      "metadata": {
        "id": "4RBuRNVKB_sa"
      }
    },
    {
      "cell_type": "code",
      "source": [
        "import pandas as pd\n",
        "from sklearn.dummy import DummyClassifier\n",
        "\n",
        "# target = \"certified\" # target column\n",
        "\n",
        "# This classifier returns labels sampled uniformly at random\n",
        "# df_train = pd.read_csv('edx_train.csv')\n",
        "# dummy_model = DummyClassifier(strategy=\"uniform\")\n",
        "# dummy_model.fit(df_train.drop(target, axis=1), df_train[target])"
      ],
      "metadata": {
        "id": "O_mvbzSAd5dU"
      },
      "execution_count": null,
      "outputs": []
    },
    {
      "cell_type": "markdown",
      "source": [
        "The code below generates predictions on the test set, and outputs the predictions into a CSV file."
      ],
      "metadata": {
        "id": "F3pMT8VlEk15"
      }
    },
    {
      "cell_type": "code",
      "source": [
        "# Generate predictions on the test set\n",
        "# df_test = pd.read_csv('edx_test.csv')\n",
        "# predictions = dummy_model.predict(df_test)\n",
        "\n",
        "# Save your predictions as a CSV\n",
        "# to_save = df_test[['userid_DI']].copy()\n",
        "# to_save.loc[:, 'certified'] = predictions\n",
        "# to_save.to_csv('submission.csv', index=False)\n",
        "\n",
        "# See below for instructions on how to upload submission.csv to Kaggle,\n",
        "# in order to evaluate your model and get points."
      ],
      "metadata": {
        "id": "W1vMUKAVeDWK"
      },
      "execution_count": null,
      "outputs": []
    },
    {
      "cell_type": "markdown",
      "source": [
        "### **[5 Pts] Model Comparison**\n",
        "\n",
        "**Instructions**: Run at least 2 different classification models. The classification models we have learned in class are: [Logistic Regression](https://scikit-learn.org/stable/modules/generated/sklearn.linear_model.LogisticRegression.html), [k-Nearest Neighbors](https://scikit-learn.org/stable/modules/generated/sklearn.neighbors.KNeighborsClassifier.html), [Decision Trees](https://scikit-learn.org/stable/modules/generated/sklearn.tree.DecisionTreeClassifier.html), [Random Forests](https://scikit-learn.org/stable/modules/generated/sklearn.ensemble.RandomForestClassifier.html), and [AdaBoost](https://scikit-learn.org/stable/modules/generated/sklearn.ensemble.AdaBoostClassifier.html), [Neural Networks](https://scikit-learn.org/stable/modules/neural_networks_supervised.html). For each model, try at least 2 different hyperparameter settings.\n",
        "\n",
        "Then, make one or more visualizations that let you compare the models you trained. Sample visualizations you can make include confusion matrices, or graphs of train and validation accuracy/error. See past section and homework code for how to make these visualizations.\n",
        "\n",
        "The goal is to train a model that accurately predicts whether students received their certification in the course for future student data examples of the same format."
      ],
      "metadata": {
        "id": "r4Sv5DRBOJ_Q"
      }
    },
    {
      "cell_type": "markdown",
      "source": [
        "#### Classification model 1: decision trees\n",
        "\n",
        "*   preprocessing\n",
        "*   model training\n",
        "*   make predictions\n",
        "*   Grid search\n",
        "\n"
      ],
      "metadata": {
        "id": "ffZcttZc06cj"
      }
    },
    {
      "cell_type": "code",
      "source": [
        "import numpy as np\n",
        "import pandas as pd\n",
        "import matplotlib.pyplot as plt\n",
        "import seaborn as sns\n",
        "\n",
        "from sklearn.model_selection import train_test_split\n",
        "from sklearn import metrics\n",
        "from sklearn.tree import DecisionTreeClassifier\n",
        "from sklearn.metrics import confusion_matrix, accuracy_score\n",
        "\n",
        "np.random.seed(416)\n",
        "\n",
        "# load dataset\n",
        "df_train = pd.read_csv('edx_train.csv')\n",
        "print(len(df_train))\n",
        "df_train.head()\n"
      ],
      "metadata": {
        "colab": {
          "base_uri": "https://localhost:8080/",
          "height": 244
        },
        "id": "t6DkOUfG05sI",
        "outputId": "243eb777-9264-4d32-f0c1-b0a4fae27ab6"
      },
      "execution_count": null,
      "outputs": [
        {
          "output_type": "stream",
          "name": "stdout",
          "text": [
            "8758\n"
          ]
        },
        {
          "output_type": "execute_result",
          "data": {
            "text/plain": [
              "                    course_id       userid_DI  registered  viewed  explored  \\\n",
              "0         HarvardX/CS50x/2012  MHxPC130545492           1       1         1   \n",
              "1  HarvardX/ER22x/2013_Spring  MHxPC130536944           1       1         1   \n",
              "2         HarvardX/CS50x/2012  MHxPC130442298           1       1         1   \n",
              "3  HarvardX/ER22x/2013_Spring  MHxPC130273564           1       1         1   \n",
              "4         HarvardX/CS50x/2012  MHxPC130247761           1       1         0   \n",
              "\n",
              "   certified final_cc_cname_DI      LoE_DI     YoB gender start_time_DI  \\\n",
              "0          1     United States    Master's  1984.0      m       3/10/13   \n",
              "1          1    United Kingdom    Master's  1985.0      f       3/13/13   \n",
              "2          1             India         NaN     NaN    NaN        8/2/12   \n",
              "3          1    United Kingdom  Bachelor's  1982.0      m       1/23/13   \n",
              "4          0     United States   Secondary  1989.0      m        3/5/13   \n",
              "\n",
              "  last_event_DI  nevents  ndays_act  nplay_video  nchapters  nforum_posts  \n",
              "0       7/29/13   1161.0       50.0          NaN       12.0             0  \n",
              "1        8/1/13   1360.0       10.0          NaN       29.0             0  \n",
              "2       7/25/13     77.0       18.0          NaN        7.0             0  \n",
              "3       8/13/13   1425.0       29.0          NaN       34.0             0  \n",
              "4        3/5/13      6.0        1.0          NaN        1.0             0  "
            ],
            "text/html": [
              "\n",
              "  <div id=\"df-926b2457-6e07-4240-9d06-5d496a5f6487\" class=\"colab-df-container\">\n",
              "    <div>\n",
              "<style scoped>\n",
              "    .dataframe tbody tr th:only-of-type {\n",
              "        vertical-align: middle;\n",
              "    }\n",
              "\n",
              "    .dataframe tbody tr th {\n",
              "        vertical-align: top;\n",
              "    }\n",
              "\n",
              "    .dataframe thead th {\n",
              "        text-align: right;\n",
              "    }\n",
              "</style>\n",
              "<table border=\"1\" class=\"dataframe\">\n",
              "  <thead>\n",
              "    <tr style=\"text-align: right;\">\n",
              "      <th></th>\n",
              "      <th>course_id</th>\n",
              "      <th>userid_DI</th>\n",
              "      <th>registered</th>\n",
              "      <th>viewed</th>\n",
              "      <th>explored</th>\n",
              "      <th>certified</th>\n",
              "      <th>final_cc_cname_DI</th>\n",
              "      <th>LoE_DI</th>\n",
              "      <th>YoB</th>\n",
              "      <th>gender</th>\n",
              "      <th>start_time_DI</th>\n",
              "      <th>last_event_DI</th>\n",
              "      <th>nevents</th>\n",
              "      <th>ndays_act</th>\n",
              "      <th>nplay_video</th>\n",
              "      <th>nchapters</th>\n",
              "      <th>nforum_posts</th>\n",
              "    </tr>\n",
              "  </thead>\n",
              "  <tbody>\n",
              "    <tr>\n",
              "      <th>0</th>\n",
              "      <td>HarvardX/CS50x/2012</td>\n",
              "      <td>MHxPC130545492</td>\n",
              "      <td>1</td>\n",
              "      <td>1</td>\n",
              "      <td>1</td>\n",
              "      <td>1</td>\n",
              "      <td>United States</td>\n",
              "      <td>Master's</td>\n",
              "      <td>1984.0</td>\n",
              "      <td>m</td>\n",
              "      <td>3/10/13</td>\n",
              "      <td>7/29/13</td>\n",
              "      <td>1161.0</td>\n",
              "      <td>50.0</td>\n",
              "      <td>NaN</td>\n",
              "      <td>12.0</td>\n",
              "      <td>0</td>\n",
              "    </tr>\n",
              "    <tr>\n",
              "      <th>1</th>\n",
              "      <td>HarvardX/ER22x/2013_Spring</td>\n",
              "      <td>MHxPC130536944</td>\n",
              "      <td>1</td>\n",
              "      <td>1</td>\n",
              "      <td>1</td>\n",
              "      <td>1</td>\n",
              "      <td>United Kingdom</td>\n",
              "      <td>Master's</td>\n",
              "      <td>1985.0</td>\n",
              "      <td>f</td>\n",
              "      <td>3/13/13</td>\n",
              "      <td>8/1/13</td>\n",
              "      <td>1360.0</td>\n",
              "      <td>10.0</td>\n",
              "      <td>NaN</td>\n",
              "      <td>29.0</td>\n",
              "      <td>0</td>\n",
              "    </tr>\n",
              "    <tr>\n",
              "      <th>2</th>\n",
              "      <td>HarvardX/CS50x/2012</td>\n",
              "      <td>MHxPC130442298</td>\n",
              "      <td>1</td>\n",
              "      <td>1</td>\n",
              "      <td>1</td>\n",
              "      <td>1</td>\n",
              "      <td>India</td>\n",
              "      <td>NaN</td>\n",
              "      <td>NaN</td>\n",
              "      <td>NaN</td>\n",
              "      <td>8/2/12</td>\n",
              "      <td>7/25/13</td>\n",
              "      <td>77.0</td>\n",
              "      <td>18.0</td>\n",
              "      <td>NaN</td>\n",
              "      <td>7.0</td>\n",
              "      <td>0</td>\n",
              "    </tr>\n",
              "    <tr>\n",
              "      <th>3</th>\n",
              "      <td>HarvardX/ER22x/2013_Spring</td>\n",
              "      <td>MHxPC130273564</td>\n",
              "      <td>1</td>\n",
              "      <td>1</td>\n",
              "      <td>1</td>\n",
              "      <td>1</td>\n",
              "      <td>United Kingdom</td>\n",
              "      <td>Bachelor's</td>\n",
              "      <td>1982.0</td>\n",
              "      <td>m</td>\n",
              "      <td>1/23/13</td>\n",
              "      <td>8/13/13</td>\n",
              "      <td>1425.0</td>\n",
              "      <td>29.0</td>\n",
              "      <td>NaN</td>\n",
              "      <td>34.0</td>\n",
              "      <td>0</td>\n",
              "    </tr>\n",
              "    <tr>\n",
              "      <th>4</th>\n",
              "      <td>HarvardX/CS50x/2012</td>\n",
              "      <td>MHxPC130247761</td>\n",
              "      <td>1</td>\n",
              "      <td>1</td>\n",
              "      <td>0</td>\n",
              "      <td>0</td>\n",
              "      <td>United States</td>\n",
              "      <td>Secondary</td>\n",
              "      <td>1989.0</td>\n",
              "      <td>m</td>\n",
              "      <td>3/5/13</td>\n",
              "      <td>3/5/13</td>\n",
              "      <td>6.0</td>\n",
              "      <td>1.0</td>\n",
              "      <td>NaN</td>\n",
              "      <td>1.0</td>\n",
              "      <td>0</td>\n",
              "    </tr>\n",
              "  </tbody>\n",
              "</table>\n",
              "</div>\n",
              "    <div class=\"colab-df-buttons\">\n",
              "\n",
              "  <div class=\"colab-df-container\">\n",
              "    <button class=\"colab-df-convert\" onclick=\"convertToInteractive('df-926b2457-6e07-4240-9d06-5d496a5f6487')\"\n",
              "            title=\"Convert this dataframe to an interactive table.\"\n",
              "            style=\"display:none;\">\n",
              "\n",
              "  <svg xmlns=\"http://www.w3.org/2000/svg\" height=\"24px\" viewBox=\"0 -960 960 960\">\n",
              "    <path d=\"M120-120v-720h720v720H120Zm60-500h600v-160H180v160Zm220 220h160v-160H400v160Zm0 220h160v-160H400v160ZM180-400h160v-160H180v160Zm440 0h160v-160H620v160ZM180-180h160v-160H180v160Zm440 0h160v-160H620v160Z\"/>\n",
              "  </svg>\n",
              "    </button>\n",
              "\n",
              "  <style>\n",
              "    .colab-df-container {\n",
              "      display:flex;\n",
              "      gap: 12px;\n",
              "    }\n",
              "\n",
              "    .colab-df-convert {\n",
              "      background-color: #E8F0FE;\n",
              "      border: none;\n",
              "      border-radius: 50%;\n",
              "      cursor: pointer;\n",
              "      display: none;\n",
              "      fill: #1967D2;\n",
              "      height: 32px;\n",
              "      padding: 0 0 0 0;\n",
              "      width: 32px;\n",
              "    }\n",
              "\n",
              "    .colab-df-convert:hover {\n",
              "      background-color: #E2EBFA;\n",
              "      box-shadow: 0px 1px 2px rgba(60, 64, 67, 0.3), 0px 1px 3px 1px rgba(60, 64, 67, 0.15);\n",
              "      fill: #174EA6;\n",
              "    }\n",
              "\n",
              "    .colab-df-buttons div {\n",
              "      margin-bottom: 4px;\n",
              "    }\n",
              "\n",
              "    [theme=dark] .colab-df-convert {\n",
              "      background-color: #3B4455;\n",
              "      fill: #D2E3FC;\n",
              "    }\n",
              "\n",
              "    [theme=dark] .colab-df-convert:hover {\n",
              "      background-color: #434B5C;\n",
              "      box-shadow: 0px 1px 3px 1px rgba(0, 0, 0, 0.15);\n",
              "      filter: drop-shadow(0px 1px 2px rgba(0, 0, 0, 0.3));\n",
              "      fill: #FFFFFF;\n",
              "    }\n",
              "  </style>\n",
              "\n",
              "    <script>\n",
              "      const buttonEl =\n",
              "        document.querySelector('#df-926b2457-6e07-4240-9d06-5d496a5f6487 button.colab-df-convert');\n",
              "      buttonEl.style.display =\n",
              "        google.colab.kernel.accessAllowed ? 'block' : 'none';\n",
              "\n",
              "      async function convertToInteractive(key) {\n",
              "        const element = document.querySelector('#df-926b2457-6e07-4240-9d06-5d496a5f6487');\n",
              "        const dataTable =\n",
              "          await google.colab.kernel.invokeFunction('convertToInteractive',\n",
              "                                                    [key], {});\n",
              "        if (!dataTable) return;\n",
              "\n",
              "        const docLinkHtml = 'Like what you see? Visit the ' +\n",
              "          '<a target=\"_blank\" href=https://colab.research.google.com/notebooks/data_table.ipynb>data table notebook</a>'\n",
              "          + ' to learn more about interactive tables.';\n",
              "        element.innerHTML = '';\n",
              "        dataTable['output_type'] = 'display_data';\n",
              "        await google.colab.output.renderOutput(dataTable, element);\n",
              "        const docLink = document.createElement('div');\n",
              "        docLink.innerHTML = docLinkHtml;\n",
              "        element.appendChild(docLink);\n",
              "      }\n",
              "    </script>\n",
              "  </div>\n",
              "\n",
              "\n",
              "<div id=\"df-e301f52e-d9e8-4278-aef0-4d62f50c0aa7\">\n",
              "  <button class=\"colab-df-quickchart\" onclick=\"quickchart('df-e301f52e-d9e8-4278-aef0-4d62f50c0aa7')\"\n",
              "            title=\"Suggest charts\"\n",
              "            style=\"display:none;\">\n",
              "\n",
              "<svg xmlns=\"http://www.w3.org/2000/svg\" height=\"24px\"viewBox=\"0 0 24 24\"\n",
              "     width=\"24px\">\n",
              "    <g>\n",
              "        <path d=\"M19 3H5c-1.1 0-2 .9-2 2v14c0 1.1.9 2 2 2h14c1.1 0 2-.9 2-2V5c0-1.1-.9-2-2-2zM9 17H7v-7h2v7zm4 0h-2V7h2v10zm4 0h-2v-4h2v4z\"/>\n",
              "    </g>\n",
              "</svg>\n",
              "  </button>\n",
              "\n",
              "<style>\n",
              "  .colab-df-quickchart {\n",
              "      --bg-color: #E8F0FE;\n",
              "      --fill-color: #1967D2;\n",
              "      --hover-bg-color: #E2EBFA;\n",
              "      --hover-fill-color: #174EA6;\n",
              "      --disabled-fill-color: #AAA;\n",
              "      --disabled-bg-color: #DDD;\n",
              "  }\n",
              "\n",
              "  [theme=dark] .colab-df-quickchart {\n",
              "      --bg-color: #3B4455;\n",
              "      --fill-color: #D2E3FC;\n",
              "      --hover-bg-color: #434B5C;\n",
              "      --hover-fill-color: #FFFFFF;\n",
              "      --disabled-bg-color: #3B4455;\n",
              "      --disabled-fill-color: #666;\n",
              "  }\n",
              "\n",
              "  .colab-df-quickchart {\n",
              "    background-color: var(--bg-color);\n",
              "    border: none;\n",
              "    border-radius: 50%;\n",
              "    cursor: pointer;\n",
              "    display: none;\n",
              "    fill: var(--fill-color);\n",
              "    height: 32px;\n",
              "    padding: 0;\n",
              "    width: 32px;\n",
              "  }\n",
              "\n",
              "  .colab-df-quickchart:hover {\n",
              "    background-color: var(--hover-bg-color);\n",
              "    box-shadow: 0 1px 2px rgba(60, 64, 67, 0.3), 0 1px 3px 1px rgba(60, 64, 67, 0.15);\n",
              "    fill: var(--button-hover-fill-color);\n",
              "  }\n",
              "\n",
              "  .colab-df-quickchart-complete:disabled,\n",
              "  .colab-df-quickchart-complete:disabled:hover {\n",
              "    background-color: var(--disabled-bg-color);\n",
              "    fill: var(--disabled-fill-color);\n",
              "    box-shadow: none;\n",
              "  }\n",
              "\n",
              "  .colab-df-spinner {\n",
              "    border: 2px solid var(--fill-color);\n",
              "    border-color: transparent;\n",
              "    border-bottom-color: var(--fill-color);\n",
              "    animation:\n",
              "      spin 1s steps(1) infinite;\n",
              "  }\n",
              "\n",
              "  @keyframes spin {\n",
              "    0% {\n",
              "      border-color: transparent;\n",
              "      border-bottom-color: var(--fill-color);\n",
              "      border-left-color: var(--fill-color);\n",
              "    }\n",
              "    20% {\n",
              "      border-color: transparent;\n",
              "      border-left-color: var(--fill-color);\n",
              "      border-top-color: var(--fill-color);\n",
              "    }\n",
              "    30% {\n",
              "      border-color: transparent;\n",
              "      border-left-color: var(--fill-color);\n",
              "      border-top-color: var(--fill-color);\n",
              "      border-right-color: var(--fill-color);\n",
              "    }\n",
              "    40% {\n",
              "      border-color: transparent;\n",
              "      border-right-color: var(--fill-color);\n",
              "      border-top-color: var(--fill-color);\n",
              "    }\n",
              "    60% {\n",
              "      border-color: transparent;\n",
              "      border-right-color: var(--fill-color);\n",
              "    }\n",
              "    80% {\n",
              "      border-color: transparent;\n",
              "      border-right-color: var(--fill-color);\n",
              "      border-bottom-color: var(--fill-color);\n",
              "    }\n",
              "    90% {\n",
              "      border-color: transparent;\n",
              "      border-bottom-color: var(--fill-color);\n",
              "    }\n",
              "  }\n",
              "</style>\n",
              "\n",
              "  <script>\n",
              "    async function quickchart(key) {\n",
              "      const quickchartButtonEl =\n",
              "        document.querySelector('#' + key + ' button');\n",
              "      quickchartButtonEl.disabled = true;  // To prevent multiple clicks.\n",
              "      quickchartButtonEl.classList.add('colab-df-spinner');\n",
              "      try {\n",
              "        const charts = await google.colab.kernel.invokeFunction(\n",
              "            'suggestCharts', [key], {});\n",
              "      } catch (error) {\n",
              "        console.error('Error during call to suggestCharts:', error);\n",
              "      }\n",
              "      quickchartButtonEl.classList.remove('colab-df-spinner');\n",
              "      quickchartButtonEl.classList.add('colab-df-quickchart-complete');\n",
              "    }\n",
              "    (() => {\n",
              "      let quickchartButtonEl =\n",
              "        document.querySelector('#df-e301f52e-d9e8-4278-aef0-4d62f50c0aa7 button');\n",
              "      quickchartButtonEl.style.display =\n",
              "        google.colab.kernel.accessAllowed ? 'block' : 'none';\n",
              "    })();\n",
              "  </script>\n",
              "</div>\n",
              "\n",
              "    </div>\n",
              "  </div>\n"
            ],
            "application/vnd.google.colaboratory.intrinsic+json": {
              "type": "dataframe",
              "variable_name": "df_train",
              "summary": "{\n  \"name\": \"df_train\",\n  \"rows\": 8758,\n  \"fields\": [\n    {\n      \"column\": \"course_id\",\n      \"properties\": {\n        \"dtype\": \"category\",\n        \"num_unique_values\": 5,\n        \"samples\": [\n          \"HarvardX/ER22x/2013_Spring\",\n          \"HarvardX/CB22x/2013_Spring\",\n          \"HarvardX/PH207x/2012_Fall\"\n        ],\n        \"semantic_type\": \"\",\n        \"description\": \"\"\n      }\n    },\n    {\n      \"column\": \"userid_DI\",\n      \"properties\": {\n        \"dtype\": \"string\",\n        \"num_unique_values\": 8758,\n        \"samples\": [\n          \"MHxPC130077107\",\n          \"MHxPC130371297\",\n          \"MHxPC130589832\"\n        ],\n        \"semantic_type\": \"\",\n        \"description\": \"\"\n      }\n    },\n    {\n      \"column\": \"registered\",\n      \"properties\": {\n        \"dtype\": \"number\",\n        \"std\": 0,\n        \"min\": 1,\n        \"max\": 1,\n        \"num_unique_values\": 1,\n        \"samples\": [\n          1\n        ],\n        \"semantic_type\": \"\",\n        \"description\": \"\"\n      }\n    },\n    {\n      \"column\": \"viewed\",\n      \"properties\": {\n        \"dtype\": \"number\",\n        \"std\": 0,\n        \"min\": 0,\n        \"max\": 1,\n        \"num_unique_values\": 2,\n        \"samples\": [\n          0\n        ],\n        \"semantic_type\": \"\",\n        \"description\": \"\"\n      }\n    },\n    {\n      \"column\": \"explored\",\n      \"properties\": {\n        \"dtype\": \"number\",\n        \"std\": 0,\n        \"min\": 0,\n        \"max\": 1,\n        \"num_unique_values\": 2,\n        \"samples\": [\n          0\n        ],\n        \"semantic_type\": \"\",\n        \"description\": \"\"\n      }\n    },\n    {\n      \"column\": \"certified\",\n      \"properties\": {\n        \"dtype\": \"number\",\n        \"std\": 0,\n        \"min\": 0,\n        \"max\": 1,\n        \"num_unique_values\": 2,\n        \"samples\": [\n          0\n        ],\n        \"semantic_type\": \"\",\n        \"description\": \"\"\n      }\n    },\n    {\n      \"column\": \"final_cc_cname_DI\",\n      \"properties\": {\n        \"dtype\": \"category\",\n        \"num_unique_values\": 34,\n        \"samples\": [\n          \"France\"\n        ],\n        \"semantic_type\": \"\",\n        \"description\": \"\"\n      }\n    },\n    {\n      \"column\": \"LoE_DI\",\n      \"properties\": {\n        \"dtype\": \"category\",\n        \"num_unique_values\": 5,\n        \"samples\": [\n          \"Bachelor's\"\n        ],\n        \"semantic_type\": \"\",\n        \"description\": \"\"\n      }\n    },\n    {\n      \"column\": \"YoB\",\n      \"properties\": {\n        \"dtype\": \"number\",\n        \"std\": 9.503466071378975,\n        \"min\": 1931.0,\n        \"max\": 2012.0,\n        \"num_unique_values\": 70,\n        \"samples\": [\n          1976.0\n        ],\n        \"semantic_type\": \"\",\n        \"description\": \"\"\n      }\n    },\n    {\n      \"column\": \"gender\",\n      \"properties\": {\n        \"dtype\": \"category\",\n        \"num_unique_values\": 2,\n        \"samples\": [\n          \"f\"\n        ],\n        \"semantic_type\": \"\",\n        \"description\": \"\"\n      }\n    },\n    {\n      \"column\": \"start_time_DI\",\n      \"properties\": {\n        \"dtype\": \"object\",\n        \"num_unique_values\": 409,\n        \"samples\": [\n          \"9/27/12\"\n        ],\n        \"semantic_type\": \"\",\n        \"description\": \"\"\n      }\n    },\n    {\n      \"column\": \"last_event_DI\",\n      \"properties\": {\n        \"dtype\": \"object\",\n        \"num_unique_values\": 360,\n        \"samples\": [\n          \"5/26/13\"\n        ],\n        \"semantic_type\": \"\",\n        \"description\": \"\"\n      }\n    },\n    {\n      \"column\": \"nevents\",\n      \"properties\": {\n        \"dtype\": \"number\",\n        \"std\": 2691.788249730917,\n        \"min\": 1.0,\n        \"max\": 37440.0,\n        \"num_unique_values\": 2822,\n        \"samples\": [\n          260.0\n        ],\n        \"semantic_type\": \"\",\n        \"description\": \"\"\n      }\n    },\n    {\n      \"column\": \"ndays_act\",\n      \"properties\": {\n        \"dtype\": \"number\",\n        \"std\": 20.847351276889984,\n        \"min\": 1.0,\n        \"max\": 159.0,\n        \"num_unique_values\": 114,\n        \"samples\": [\n          69.0\n        ],\n        \"semantic_type\": \"\",\n        \"description\": \"\"\n      }\n    },\n    {\n      \"column\": \"nplay_video\",\n      \"properties\": {\n        \"dtype\": \"number\",\n        \"std\": 1090.1055680618433,\n        \"min\": 1.0,\n        \"max\": 17314.0,\n        \"num_unique_values\": 990,\n        \"samples\": [\n          957.0\n        ],\n        \"semantic_type\": \"\",\n        \"description\": \"\"\n      }\n    },\n    {\n      \"column\": \"nchapters\",\n      \"properties\": {\n        \"dtype\": \"number\",\n        \"std\": 10.058660359803072,\n        \"min\": 1.0,\n        \"max\": 34.0,\n        \"num_unique_values\": 34,\n        \"samples\": [\n          33.0\n        ],\n        \"semantic_type\": \"\",\n        \"description\": \"\"\n      }\n    },\n    {\n      \"column\": \"nforum_posts\",\n      \"properties\": {\n        \"dtype\": \"number\",\n        \"std\": 0,\n        \"min\": 0,\n        \"max\": 7,\n        \"num_unique_values\": 8,\n        \"samples\": [\n          2\n        ],\n        \"semantic_type\": \"\",\n        \"description\": \"\"\n      }\n    }\n  ]\n}"
            }
          },
          "metadata": {},
          "execution_count": 46
        }
      ]
    },
    {
      "cell_type": "markdown",
      "source": [
        "I am interested in the column 'certified' as the target/lablel values. In this column, 0 means not certified, 1 means certified. so i need to reassign it first. So:\n",
        "*    +1 as certified,\n",
        "*    -1 as not certified.\n",
        "I will put it in a new cloumn 'certified' for the future reference."
      ],
      "metadata": {
        "id": "9Uc8xyrGwP7C"
      }
    },
    {
      "cell_type": "code",
      "source": [
        "# check the initial distribution of certified:\n",
        "print(len(df_train[df_train['certified'] == 1]))\n",
        "print(len(df_train[df_train['certified'] == 0]))"
      ],
      "metadata": {
        "colab": {
          "base_uri": "https://localhost:8080/"
        },
        "id": "KNp9WafUl_GW",
        "outputId": "69fc756b-252e-4dd1-c2b9-7d9d292bfb66"
      },
      "execution_count": null,
      "outputs": [
        {
          "output_type": "stream",
          "name": "stdout",
          "text": [
            "3889\n",
            "4869\n"
          ]
        }
      ]
    },
    {
      "cell_type": "code",
      "source": [
        "# now encode 1 remians 1, 0 becomes -1.\n",
        "df_train['certified'] = df_train['certified'].apply(lambda x: -1 if x == 0 else 1)\n",
        "\n",
        "print(len(df_train[df_train['certified'] == 1]))\n",
        "print(len(df_train[df_train['certified'] == -1]))"
      ],
      "metadata": {
        "colab": {
          "base_uri": "https://localhost:8080/"
        },
        "id": "WguLUmkt2e5x",
        "outputId": "48200251-ff50-4165-a57a-e2acacc3be94"
      },
      "execution_count": null,
      "outputs": [
        {
          "output_type": "stream",
          "name": "stdout",
          "text": [
            "3889\n",
            "4869\n"
          ]
        }
      ]
    },
    {
      "cell_type": "code",
      "source": [
        "# Now, i want to explore the distribution of values for is_explored, so i can know how many is and not explored are present in the dataset.\n",
        "only_is_certified = df_train[df_train['certified'] == 1]\n",
        "only_not_certified = df_train[df_train['certified'] == -1]\n",
        "\n",
        "print(f'Number of is certified course: {len(only_is_certified)} ({len(only_is_certified) * 100.0 / len(df_train):.2f}%)')\n",
        "print(f'Number of not certified course: {len(only_not_certified)} ({len(only_not_certified) * 100.0 / len(df_train):.2f}%)')"
      ],
      "metadata": {
        "colab": {
          "base_uri": "https://localhost:8080/"
        },
        "id": "XONaTGvLBYRu",
        "outputId": "1f28282e-ab55-4471-be69-f2bc7e96ad11"
      },
      "execution_count": null,
      "outputs": [
        {
          "output_type": "stream",
          "name": "stdout",
          "text": [
            "Number of is certified course: 3889 (44.41%)\n",
            "Number of not certified course: 4869 (55.59%)\n"
          ]
        }
      ]
    },
    {
      "cell_type": "code",
      "source": [
        "# feature selections (include both numeric and categorical values)\n",
        "df_train.columns"
      ],
      "metadata": {
        "colab": {
          "base_uri": "https://localhost:8080/"
        },
        "id": "zZbbfai_CFpL",
        "outputId": "88423a86-6b65-456b-c157-c3796b3b207e"
      },
      "execution_count": null,
      "outputs": [
        {
          "output_type": "execute_result",
          "data": {
            "text/plain": [
              "Index(['course_id', 'userid_DI', 'registered', 'viewed', 'explored',\n",
              "       'certified', 'final_cc_cname_DI', 'LoE_DI', 'YoB', 'gender',\n",
              "       'start_time_DI', 'last_event_DI', 'nevents', 'ndays_act', 'nplay_video',\n",
              "       'nchapters', 'nforum_posts'],\n",
              "      dtype='object')"
            ]
          },
          "metadata": {},
          "execution_count": 5
        }
      ]
    },
    {
      "cell_type": "code",
      "source": [
        "df_train.replace('?', np.nan, inplace=True)\n",
        "\n",
        "df_train = df_train.applymap(lambda x: int(x) if isinstance(x, bool) else x)\n",
        "\n",
        "# Handle missing values\n",
        "df_train['gender'].fillna('unknown', inplace=True)\n",
        "df_train['LoE_DI'].fillna('unknown', inplace=True)\n",
        "df_train['YoB'].fillna(df_train['YoB'].median(), inplace=True)\n",
        "df_train['nplay_video'].fillna(0, inplace=True)"
      ],
      "metadata": {
        "id": "GhRzg03gzeoi"
      },
      "execution_count": null,
      "outputs": []
    },
    {
      "cell_type": "code",
      "source": [
        "# select features.\n",
        "\n",
        "features = ['registered', 'viewed', 'explored', 'final_cc_cname_DI', 'LoE_DI',\n",
        "            'YoB', 'gender', 'nevents', 'ndays_act', 'nplay_video',\n",
        "            'nchapters', 'nforum_posts']\n",
        "\n",
        "target = 'certified'\n",
        "\n",
        "# Extract the feature columns and target column\n",
        "df_train = df_train[features + [target]]\n",
        "df_train.head()"
      ],
      "metadata": {
        "colab": {
          "base_uri": "https://localhost:8080/",
          "height": 226
        },
        "id": "zMxiiiDsCdoN",
        "outputId": "d4f1224e-3366-4e98-bac7-816ed2697de9"
      },
      "execution_count": null,
      "outputs": [
        {
          "output_type": "execute_result",
          "data": {
            "text/plain": [
              "   registered  viewed  explored final_cc_cname_DI      LoE_DI     YoB  \\\n",
              "0           1       1         1     United States    Master's  1984.0   \n",
              "1           1       1         1    United Kingdom    Master's  1985.0   \n",
              "2           1       1         1             India     unknown  1986.0   \n",
              "3           1       1         1    United Kingdom  Bachelor's  1982.0   \n",
              "4           1       1         0     United States   Secondary  1989.0   \n",
              "\n",
              "    gender  nevents  ndays_act  nplay_video  nchapters  nforum_posts  \\\n",
              "0        m   1161.0       50.0          0.0       12.0             0   \n",
              "1        f   1360.0       10.0          0.0       29.0             0   \n",
              "2  unknown     77.0       18.0          0.0        7.0             0   \n",
              "3        m   1425.0       29.0          0.0       34.0             0   \n",
              "4        m      6.0        1.0          0.0        1.0             0   \n",
              "\n",
              "   certified  \n",
              "0          1  \n",
              "1          1  \n",
              "2          1  \n",
              "3          1  \n",
              "4         -1  "
            ],
            "text/html": [
              "\n",
              "  <div id=\"df-d955fda3-83ee-4d5d-8ef4-18d63ce15cf3\" class=\"colab-df-container\">\n",
              "    <div>\n",
              "<style scoped>\n",
              "    .dataframe tbody tr th:only-of-type {\n",
              "        vertical-align: middle;\n",
              "    }\n",
              "\n",
              "    .dataframe tbody tr th {\n",
              "        vertical-align: top;\n",
              "    }\n",
              "\n",
              "    .dataframe thead th {\n",
              "        text-align: right;\n",
              "    }\n",
              "</style>\n",
              "<table border=\"1\" class=\"dataframe\">\n",
              "  <thead>\n",
              "    <tr style=\"text-align: right;\">\n",
              "      <th></th>\n",
              "      <th>registered</th>\n",
              "      <th>viewed</th>\n",
              "      <th>explored</th>\n",
              "      <th>final_cc_cname_DI</th>\n",
              "      <th>LoE_DI</th>\n",
              "      <th>YoB</th>\n",
              "      <th>gender</th>\n",
              "      <th>nevents</th>\n",
              "      <th>ndays_act</th>\n",
              "      <th>nplay_video</th>\n",
              "      <th>nchapters</th>\n",
              "      <th>nforum_posts</th>\n",
              "      <th>certified</th>\n",
              "    </tr>\n",
              "  </thead>\n",
              "  <tbody>\n",
              "    <tr>\n",
              "      <th>0</th>\n",
              "      <td>1</td>\n",
              "      <td>1</td>\n",
              "      <td>1</td>\n",
              "      <td>United States</td>\n",
              "      <td>Master's</td>\n",
              "      <td>1984.0</td>\n",
              "      <td>m</td>\n",
              "      <td>1161.0</td>\n",
              "      <td>50.0</td>\n",
              "      <td>0.0</td>\n",
              "      <td>12.0</td>\n",
              "      <td>0</td>\n",
              "      <td>1</td>\n",
              "    </tr>\n",
              "    <tr>\n",
              "      <th>1</th>\n",
              "      <td>1</td>\n",
              "      <td>1</td>\n",
              "      <td>1</td>\n",
              "      <td>United Kingdom</td>\n",
              "      <td>Master's</td>\n",
              "      <td>1985.0</td>\n",
              "      <td>f</td>\n",
              "      <td>1360.0</td>\n",
              "      <td>10.0</td>\n",
              "      <td>0.0</td>\n",
              "      <td>29.0</td>\n",
              "      <td>0</td>\n",
              "      <td>1</td>\n",
              "    </tr>\n",
              "    <tr>\n",
              "      <th>2</th>\n",
              "      <td>1</td>\n",
              "      <td>1</td>\n",
              "      <td>1</td>\n",
              "      <td>India</td>\n",
              "      <td>unknown</td>\n",
              "      <td>1986.0</td>\n",
              "      <td>unknown</td>\n",
              "      <td>77.0</td>\n",
              "      <td>18.0</td>\n",
              "      <td>0.0</td>\n",
              "      <td>7.0</td>\n",
              "      <td>0</td>\n",
              "      <td>1</td>\n",
              "    </tr>\n",
              "    <tr>\n",
              "      <th>3</th>\n",
              "      <td>1</td>\n",
              "      <td>1</td>\n",
              "      <td>1</td>\n",
              "      <td>United Kingdom</td>\n",
              "      <td>Bachelor's</td>\n",
              "      <td>1982.0</td>\n",
              "      <td>m</td>\n",
              "      <td>1425.0</td>\n",
              "      <td>29.0</td>\n",
              "      <td>0.0</td>\n",
              "      <td>34.0</td>\n",
              "      <td>0</td>\n",
              "      <td>1</td>\n",
              "    </tr>\n",
              "    <tr>\n",
              "      <th>4</th>\n",
              "      <td>1</td>\n",
              "      <td>1</td>\n",
              "      <td>0</td>\n",
              "      <td>United States</td>\n",
              "      <td>Secondary</td>\n",
              "      <td>1989.0</td>\n",
              "      <td>m</td>\n",
              "      <td>6.0</td>\n",
              "      <td>1.0</td>\n",
              "      <td>0.0</td>\n",
              "      <td>1.0</td>\n",
              "      <td>0</td>\n",
              "      <td>-1</td>\n",
              "    </tr>\n",
              "  </tbody>\n",
              "</table>\n",
              "</div>\n",
              "    <div class=\"colab-df-buttons\">\n",
              "\n",
              "  <div class=\"colab-df-container\">\n",
              "    <button class=\"colab-df-convert\" onclick=\"convertToInteractive('df-d955fda3-83ee-4d5d-8ef4-18d63ce15cf3')\"\n",
              "            title=\"Convert this dataframe to an interactive table.\"\n",
              "            style=\"display:none;\">\n",
              "\n",
              "  <svg xmlns=\"http://www.w3.org/2000/svg\" height=\"24px\" viewBox=\"0 -960 960 960\">\n",
              "    <path d=\"M120-120v-720h720v720H120Zm60-500h600v-160H180v160Zm220 220h160v-160H400v160Zm0 220h160v-160H400v160ZM180-400h160v-160H180v160Zm440 0h160v-160H620v160ZM180-180h160v-160H180v160Zm440 0h160v-160H620v160Z\"/>\n",
              "  </svg>\n",
              "    </button>\n",
              "\n",
              "  <style>\n",
              "    .colab-df-container {\n",
              "      display:flex;\n",
              "      gap: 12px;\n",
              "    }\n",
              "\n",
              "    .colab-df-convert {\n",
              "      background-color: #E8F0FE;\n",
              "      border: none;\n",
              "      border-radius: 50%;\n",
              "      cursor: pointer;\n",
              "      display: none;\n",
              "      fill: #1967D2;\n",
              "      height: 32px;\n",
              "      padding: 0 0 0 0;\n",
              "      width: 32px;\n",
              "    }\n",
              "\n",
              "    .colab-df-convert:hover {\n",
              "      background-color: #E2EBFA;\n",
              "      box-shadow: 0px 1px 2px rgba(60, 64, 67, 0.3), 0px 1px 3px 1px rgba(60, 64, 67, 0.15);\n",
              "      fill: #174EA6;\n",
              "    }\n",
              "\n",
              "    .colab-df-buttons div {\n",
              "      margin-bottom: 4px;\n",
              "    }\n",
              "\n",
              "    [theme=dark] .colab-df-convert {\n",
              "      background-color: #3B4455;\n",
              "      fill: #D2E3FC;\n",
              "    }\n",
              "\n",
              "    [theme=dark] .colab-df-convert:hover {\n",
              "      background-color: #434B5C;\n",
              "      box-shadow: 0px 1px 3px 1px rgba(0, 0, 0, 0.15);\n",
              "      filter: drop-shadow(0px 1px 2px rgba(0, 0, 0, 0.3));\n",
              "      fill: #FFFFFF;\n",
              "    }\n",
              "  </style>\n",
              "\n",
              "    <script>\n",
              "      const buttonEl =\n",
              "        document.querySelector('#df-d955fda3-83ee-4d5d-8ef4-18d63ce15cf3 button.colab-df-convert');\n",
              "      buttonEl.style.display =\n",
              "        google.colab.kernel.accessAllowed ? 'block' : 'none';\n",
              "\n",
              "      async function convertToInteractive(key) {\n",
              "        const element = document.querySelector('#df-d955fda3-83ee-4d5d-8ef4-18d63ce15cf3');\n",
              "        const dataTable =\n",
              "          await google.colab.kernel.invokeFunction('convertToInteractive',\n",
              "                                                    [key], {});\n",
              "        if (!dataTable) return;\n",
              "\n",
              "        const docLinkHtml = 'Like what you see? Visit the ' +\n",
              "          '<a target=\"_blank\" href=https://colab.research.google.com/notebooks/data_table.ipynb>data table notebook</a>'\n",
              "          + ' to learn more about interactive tables.';\n",
              "        element.innerHTML = '';\n",
              "        dataTable['output_type'] = 'display_data';\n",
              "        await google.colab.output.renderOutput(dataTable, element);\n",
              "        const docLink = document.createElement('div');\n",
              "        docLink.innerHTML = docLinkHtml;\n",
              "        element.appendChild(docLink);\n",
              "      }\n",
              "    </script>\n",
              "  </div>\n",
              "\n",
              "\n",
              "<div id=\"df-e623e3a1-1b83-48f5-a172-c5fa283c7707\">\n",
              "  <button class=\"colab-df-quickchart\" onclick=\"quickchart('df-e623e3a1-1b83-48f5-a172-c5fa283c7707')\"\n",
              "            title=\"Suggest charts\"\n",
              "            style=\"display:none;\">\n",
              "\n",
              "<svg xmlns=\"http://www.w3.org/2000/svg\" height=\"24px\"viewBox=\"0 0 24 24\"\n",
              "     width=\"24px\">\n",
              "    <g>\n",
              "        <path d=\"M19 3H5c-1.1 0-2 .9-2 2v14c0 1.1.9 2 2 2h14c1.1 0 2-.9 2-2V5c0-1.1-.9-2-2-2zM9 17H7v-7h2v7zm4 0h-2V7h2v10zm4 0h-2v-4h2v4z\"/>\n",
              "    </g>\n",
              "</svg>\n",
              "  </button>\n",
              "\n",
              "<style>\n",
              "  .colab-df-quickchart {\n",
              "      --bg-color: #E8F0FE;\n",
              "      --fill-color: #1967D2;\n",
              "      --hover-bg-color: #E2EBFA;\n",
              "      --hover-fill-color: #174EA6;\n",
              "      --disabled-fill-color: #AAA;\n",
              "      --disabled-bg-color: #DDD;\n",
              "  }\n",
              "\n",
              "  [theme=dark] .colab-df-quickchart {\n",
              "      --bg-color: #3B4455;\n",
              "      --fill-color: #D2E3FC;\n",
              "      --hover-bg-color: #434B5C;\n",
              "      --hover-fill-color: #FFFFFF;\n",
              "      --disabled-bg-color: #3B4455;\n",
              "      --disabled-fill-color: #666;\n",
              "  }\n",
              "\n",
              "  .colab-df-quickchart {\n",
              "    background-color: var(--bg-color);\n",
              "    border: none;\n",
              "    border-radius: 50%;\n",
              "    cursor: pointer;\n",
              "    display: none;\n",
              "    fill: var(--fill-color);\n",
              "    height: 32px;\n",
              "    padding: 0;\n",
              "    width: 32px;\n",
              "  }\n",
              "\n",
              "  .colab-df-quickchart:hover {\n",
              "    background-color: var(--hover-bg-color);\n",
              "    box-shadow: 0 1px 2px rgba(60, 64, 67, 0.3), 0 1px 3px 1px rgba(60, 64, 67, 0.15);\n",
              "    fill: var(--button-hover-fill-color);\n",
              "  }\n",
              "\n",
              "  .colab-df-quickchart-complete:disabled,\n",
              "  .colab-df-quickchart-complete:disabled:hover {\n",
              "    background-color: var(--disabled-bg-color);\n",
              "    fill: var(--disabled-fill-color);\n",
              "    box-shadow: none;\n",
              "  }\n",
              "\n",
              "  .colab-df-spinner {\n",
              "    border: 2px solid var(--fill-color);\n",
              "    border-color: transparent;\n",
              "    border-bottom-color: var(--fill-color);\n",
              "    animation:\n",
              "      spin 1s steps(1) infinite;\n",
              "  }\n",
              "\n",
              "  @keyframes spin {\n",
              "    0% {\n",
              "      border-color: transparent;\n",
              "      border-bottom-color: var(--fill-color);\n",
              "      border-left-color: var(--fill-color);\n",
              "    }\n",
              "    20% {\n",
              "      border-color: transparent;\n",
              "      border-left-color: var(--fill-color);\n",
              "      border-top-color: var(--fill-color);\n",
              "    }\n",
              "    30% {\n",
              "      border-color: transparent;\n",
              "      border-left-color: var(--fill-color);\n",
              "      border-top-color: var(--fill-color);\n",
              "      border-right-color: var(--fill-color);\n",
              "    }\n",
              "    40% {\n",
              "      border-color: transparent;\n",
              "      border-right-color: var(--fill-color);\n",
              "      border-top-color: var(--fill-color);\n",
              "    }\n",
              "    60% {\n",
              "      border-color: transparent;\n",
              "      border-right-color: var(--fill-color);\n",
              "    }\n",
              "    80% {\n",
              "      border-color: transparent;\n",
              "      border-right-color: var(--fill-color);\n",
              "      border-bottom-color: var(--fill-color);\n",
              "    }\n",
              "    90% {\n",
              "      border-color: transparent;\n",
              "      border-bottom-color: var(--fill-color);\n",
              "    }\n",
              "  }\n",
              "</style>\n",
              "\n",
              "  <script>\n",
              "    async function quickchart(key) {\n",
              "      const quickchartButtonEl =\n",
              "        document.querySelector('#' + key + ' button');\n",
              "      quickchartButtonEl.disabled = true;  // To prevent multiple clicks.\n",
              "      quickchartButtonEl.classList.add('colab-df-spinner');\n",
              "      try {\n",
              "        const charts = await google.colab.kernel.invokeFunction(\n",
              "            'suggestCharts', [key], {});\n",
              "      } catch (error) {\n",
              "        console.error('Error during call to suggestCharts:', error);\n",
              "      }\n",
              "      quickchartButtonEl.classList.remove('colab-df-spinner');\n",
              "      quickchartButtonEl.classList.add('colab-df-quickchart-complete');\n",
              "    }\n",
              "    (() => {\n",
              "      let quickchartButtonEl =\n",
              "        document.querySelector('#df-e623e3a1-1b83-48f5-a172-c5fa283c7707 button');\n",
              "      quickchartButtonEl.style.display =\n",
              "        google.colab.kernel.accessAllowed ? 'block' : 'none';\n",
              "    })();\n",
              "  </script>\n",
              "</div>\n",
              "\n",
              "    </div>\n",
              "  </div>\n"
            ],
            "application/vnd.google.colaboratory.intrinsic+json": {
              "type": "dataframe",
              "variable_name": "df_train",
              "summary": "{\n  \"name\": \"df_train\",\n  \"rows\": 8758,\n  \"fields\": [\n    {\n      \"column\": \"registered\",\n      \"properties\": {\n        \"dtype\": \"number\",\n        \"std\": 0,\n        \"min\": 1,\n        \"max\": 1,\n        \"num_unique_values\": 1,\n        \"samples\": [\n          1\n        ],\n        \"semantic_type\": \"\",\n        \"description\": \"\"\n      }\n    },\n    {\n      \"column\": \"viewed\",\n      \"properties\": {\n        \"dtype\": \"number\",\n        \"std\": 0,\n        \"min\": 0,\n        \"max\": 1,\n        \"num_unique_values\": 2,\n        \"samples\": [\n          0\n        ],\n        \"semantic_type\": \"\",\n        \"description\": \"\"\n      }\n    },\n    {\n      \"column\": \"explored\",\n      \"properties\": {\n        \"dtype\": \"number\",\n        \"std\": 0,\n        \"min\": 0,\n        \"max\": 1,\n        \"num_unique_values\": 2,\n        \"samples\": [\n          0\n        ],\n        \"semantic_type\": \"\",\n        \"description\": \"\"\n      }\n    },\n    {\n      \"column\": \"final_cc_cname_DI\",\n      \"properties\": {\n        \"dtype\": \"category\",\n        \"num_unique_values\": 34,\n        \"samples\": [\n          \"France\"\n        ],\n        \"semantic_type\": \"\",\n        \"description\": \"\"\n      }\n    },\n    {\n      \"column\": \"LoE_DI\",\n      \"properties\": {\n        \"dtype\": \"category\",\n        \"num_unique_values\": 6,\n        \"samples\": [\n          \"Master's\"\n        ],\n        \"semantic_type\": \"\",\n        \"description\": \"\"\n      }\n    },\n    {\n      \"column\": \"YoB\",\n      \"properties\": {\n        \"dtype\": \"number\",\n        \"std\": 9.017932165317196,\n        \"min\": 1931.0,\n        \"max\": 2012.0,\n        \"num_unique_values\": 70,\n        \"samples\": [\n          1976.0\n        ],\n        \"semantic_type\": \"\",\n        \"description\": \"\"\n      }\n    },\n    {\n      \"column\": \"gender\",\n      \"properties\": {\n        \"dtype\": \"category\",\n        \"num_unique_values\": 3,\n        \"samples\": [\n          \"m\"\n        ],\n        \"semantic_type\": \"\",\n        \"description\": \"\"\n      }\n    },\n    {\n      \"column\": \"nevents\",\n      \"properties\": {\n        \"dtype\": \"number\",\n        \"std\": 2691.788249730917,\n        \"min\": 1.0,\n        \"max\": 37440.0,\n        \"num_unique_values\": 2822,\n        \"samples\": [\n          260.0\n        ],\n        \"semantic_type\": \"\",\n        \"description\": \"\"\n      }\n    },\n    {\n      \"column\": \"ndays_act\",\n      \"properties\": {\n        \"dtype\": \"number\",\n        \"std\": 20.847351276889984,\n        \"min\": 1.0,\n        \"max\": 159.0,\n        \"num_unique_values\": 114,\n        \"samples\": [\n          69.0\n        ],\n        \"semantic_type\": \"\",\n        \"description\": \"\"\n      }\n    },\n    {\n      \"column\": \"nplay_video\",\n      \"properties\": {\n        \"dtype\": \"number\",\n        \"std\": 589.6379057103668,\n        \"min\": 0.0,\n        \"max\": 17314.0,\n        \"num_unique_values\": 991,\n        \"samples\": [\n          117.0\n        ],\n        \"semantic_type\": \"\",\n        \"description\": \"\"\n      }\n    },\n    {\n      \"column\": \"nchapters\",\n      \"properties\": {\n        \"dtype\": \"number\",\n        \"std\": 10.058660359803072,\n        \"min\": 1.0,\n        \"max\": 34.0,\n        \"num_unique_values\": 34,\n        \"samples\": [\n          33.0\n        ],\n        \"semantic_type\": \"\",\n        \"description\": \"\"\n      }\n    },\n    {\n      \"column\": \"nforum_posts\",\n      \"properties\": {\n        \"dtype\": \"number\",\n        \"std\": 0,\n        \"min\": 0,\n        \"max\": 7,\n        \"num_unique_values\": 8,\n        \"samples\": [\n          2\n        ],\n        \"semantic_type\": \"\",\n        \"description\": \"\"\n      }\n    },\n    {\n      \"column\": \"certified\",\n      \"properties\": {\n        \"dtype\": \"number\",\n        \"std\": 0,\n        \"min\": -1,\n        \"max\": 1,\n        \"num_unique_values\": 2,\n        \"samples\": [\n          -1\n        ],\n        \"semantic_type\": \"\",\n        \"description\": \"\"\n      }\n    }\n  ]\n}"
            }
          },
          "metadata": {},
          "execution_count": 51
        }
      ]
    },
    {
      "cell_type": "code",
      "source": [
        "print(\"features: \", df_train.columns)"
      ],
      "metadata": {
        "colab": {
          "base_uri": "https://localhost:8080/"
        },
        "id": "dvAvk8wFC7MK",
        "outputId": "eb1ec47a-cd6a-4e18-f590-f51c53975030"
      },
      "execution_count": null,
      "outputs": [
        {
          "output_type": "stream",
          "name": "stdout",
          "text": [
            "features:  Index(['registered', 'viewed', 'explored', 'final_cc_cname_DI', 'LoE_DI',\n",
            "       'YoB', 'gender', 'nevents', 'ndays_act', 'nplay_video', 'nchapters',\n",
            "       'nforum_posts', 'certified'],\n",
            "      dtype='object')\n"
          ]
        }
      ]
    },
    {
      "cell_type": "code",
      "source": [
        "# since decision trees classifer only can handle numeric features, i need to use one-hot encoding to change the categorical to numeric ones. get_dummies is the function to do this.\n",
        "\n",
        "# one-hot encoding\n",
        "df_train = pd.get_dummies(df_train)\n",
        "\n",
        "features = list(df_train.columns)\n",
        "features.remove('certified')\n",
        "features"
      ],
      "metadata": {
        "colab": {
          "base_uri": "https://localhost:8080/"
        },
        "id": "QUrLNGJMDnM5",
        "outputId": "2ce16692-0b08-49e4-feb4-cf057e2a6954"
      },
      "execution_count": null,
      "outputs": [
        {
          "output_type": "execute_result",
          "data": {
            "text/plain": [
              "['registered',\n",
              " 'viewed',\n",
              " 'explored',\n",
              " 'YoB',\n",
              " 'nevents',\n",
              " 'ndays_act',\n",
              " 'nplay_video',\n",
              " 'nchapters',\n",
              " 'nforum_posts',\n",
              " 'final_cc_cname_DI_Australia',\n",
              " 'final_cc_cname_DI_Bangladesh',\n",
              " 'final_cc_cname_DI_Brazil',\n",
              " 'final_cc_cname_DI_Canada',\n",
              " 'final_cc_cname_DI_China',\n",
              " 'final_cc_cname_DI_Colombia',\n",
              " 'final_cc_cname_DI_Egypt',\n",
              " 'final_cc_cname_DI_France',\n",
              " 'final_cc_cname_DI_Germany',\n",
              " 'final_cc_cname_DI_Greece',\n",
              " 'final_cc_cname_DI_India',\n",
              " 'final_cc_cname_DI_Indonesia',\n",
              " 'final_cc_cname_DI_Japan',\n",
              " 'final_cc_cname_DI_Mexico',\n",
              " 'final_cc_cname_DI_Morocco',\n",
              " 'final_cc_cname_DI_Nigeria',\n",
              " 'final_cc_cname_DI_Other Africa',\n",
              " 'final_cc_cname_DI_Other East Asia',\n",
              " 'final_cc_cname_DI_Other Europe',\n",
              " 'final_cc_cname_DI_Other Middle East/Central Asia',\n",
              " 'final_cc_cname_DI_Other North & Central Amer., Caribbean',\n",
              " 'final_cc_cname_DI_Other Oceania',\n",
              " 'final_cc_cname_DI_Other South America',\n",
              " 'final_cc_cname_DI_Other South Asia',\n",
              " 'final_cc_cname_DI_Pakistan',\n",
              " 'final_cc_cname_DI_Philippines',\n",
              " 'final_cc_cname_DI_Poland',\n",
              " 'final_cc_cname_DI_Portugal',\n",
              " 'final_cc_cname_DI_Russian Federation',\n",
              " 'final_cc_cname_DI_Spain',\n",
              " 'final_cc_cname_DI_Ukraine',\n",
              " 'final_cc_cname_DI_United Kingdom',\n",
              " 'final_cc_cname_DI_United States',\n",
              " 'final_cc_cname_DI_Unknown/Other',\n",
              " \"LoE_DI_Bachelor's\",\n",
              " 'LoE_DI_Doctorate',\n",
              " 'LoE_DI_Less than Secondary',\n",
              " \"LoE_DI_Master's\",\n",
              " 'LoE_DI_Secondary',\n",
              " 'LoE_DI_unknown',\n",
              " 'gender_f',\n",
              " 'gender_m',\n",
              " 'gender_unknown']"
            ]
          },
          "metadata": {},
          "execution_count": 53
        }
      ]
    },
    {
      "cell_type": "code",
      "source": [
        "df_train.head()"
      ],
      "metadata": {
        "id": "OMDF-WfSFeF5"
      },
      "execution_count": null,
      "outputs": []
    },
    {
      "cell_type": "code",
      "source": [
        "# split train and validation set.\n",
        "train_data, val_data = train_test_split(df_train, test_size=0.2)"
      ],
      "metadata": {
        "id": "6GMBSSyFHTFx"
      },
      "execution_count": null,
      "outputs": []
    },
    {
      "cell_type": "code",
      "source": [
        "from sklearn.metrics import confusion_matrix, accuracy_score\n",
        "\n",
        "# Remove rows with missing values\n",
        "train_data = train_data.dropna()\n",
        "val_data = val_data.dropna()\n",
        "\n",
        "# train initial model\n",
        "dt = DecisionTreeClassifier(max_depth=5, random_state=7)\n",
        "\n",
        "# Fit the training data to decision tree\n",
        "dt.fit(train_data[features], train_data[target])\n",
        "\n",
        "# Predict on the validation data\n",
        "dt_val_pred = dt.predict(val_data[features])\n",
        "dt_score = dt.score(val_data[features], val_data[target])"
      ],
      "metadata": {
        "id": "AAGktT5CSZt7"
      },
      "execution_count": null,
      "outputs": []
    },
    {
      "cell_type": "code",
      "source": [
        "# visualize the tree\n",
        "import graphviz\n",
        "from sklearn import tree\n",
        "\n",
        "def draw_tree(tree_model, features):\n",
        "\n",
        "    tree_data = tree.export_graphviz(tree_model,\n",
        "                                    impurity=False,\n",
        "                                    feature_names=features,\n",
        "                                    class_names=tree_model.classes_.astype(str),\n",
        "                                    filled=True,\n",
        "                                    out_file=None)\n",
        "    graph = graphviz.Source(tree_data)\n",
        "    display(graph)\n",
        "\n",
        "small_tree_model = DecisionTreeClassifier(max_depth=2, random_state=0)\n",
        "small_tree_model.fit(train_data[features], train_data[target])\n",
        "draw_tree(small_tree_model, features)"
      ],
      "metadata": {
        "colab": {
          "base_uri": "https://localhost:8080/",
          "height": 380
        },
        "id": "wr_3p9HXL8uj",
        "outputId": "bab566ae-9eff-4288-ef36-380edca7671a"
      },
      "execution_count": null,
      "outputs": [
        {
          "output_type": "display_data",
          "data": {
            "image/svg+xml": "<?xml version=\"1.0\" encoding=\"UTF-8\" standalone=\"no\"?>\n<!DOCTYPE svg PUBLIC \"-//W3C//DTD SVG 1.1//EN\"\n \"http://www.w3.org/Graphics/SVG/1.1/DTD/svg11.dtd\">\n<!-- Generated by graphviz version 2.43.0 (0)\n -->\n<!-- Title: Tree Pages: 1 -->\n<svg width=\"553pt\" height=\"269pt\"\n viewBox=\"0.00 0.00 552.50 269.00\" xmlns=\"http://www.w3.org/2000/svg\" xmlns:xlink=\"http://www.w3.org/1999/xlink\">\n<g id=\"graph0\" class=\"graph\" transform=\"scale(1 1) rotate(0) translate(4 265)\">\n<title>Tree</title>\n<polygon fill=\"white\" stroke=\"transparent\" points=\"-4,4 -4,-265 548.5,-265 548.5,4 -4,4\"/>\n<!-- 0 -->\n<g id=\"node1\" class=\"node\">\n<title>0</title>\n<polygon fill=\"#aed7f4\" stroke=\"black\" points=\"330.5,-261 190.5,-261 190.5,-193 330.5,-193 330.5,-261\"/>\n<text text-anchor=\"middle\" x=\"260.5\" y=\"-245.8\" font-family=\"Helvetica,sans-Serif\" font-size=\"14.00\">nchapters &lt;= 5.5</text>\n<text text-anchor=\"middle\" x=\"260.5\" y=\"-230.8\" font-family=\"Helvetica,sans-Serif\" font-size=\"14.00\">samples = 4965</text>\n<text text-anchor=\"middle\" x=\"260.5\" y=\"-215.8\" font-family=\"Helvetica,sans-Serif\" font-size=\"14.00\">value = [1848, 3117]</text>\n<text text-anchor=\"middle\" x=\"260.5\" y=\"-200.8\" font-family=\"Helvetica,sans-Serif\" font-size=\"14.00\">class = 1</text>\n</g>\n<!-- 1 -->\n<g id=\"node2\" class=\"node\">\n<title>1</title>\n<polygon fill=\"#e6843e\" stroke=\"black\" points=\"250,-157 125,-157 125,-89 250,-89 250,-157\"/>\n<text text-anchor=\"middle\" x=\"187.5\" y=\"-141.8\" font-family=\"Helvetica,sans-Serif\" font-size=\"14.00\">nevents &lt;= 388.5</text>\n<text text-anchor=\"middle\" x=\"187.5\" y=\"-126.8\" font-family=\"Helvetica,sans-Serif\" font-size=\"14.00\">samples = 1580</text>\n<text text-anchor=\"middle\" x=\"187.5\" y=\"-111.8\" font-family=\"Helvetica,sans-Serif\" font-size=\"14.00\">value = [1541, 39]</text>\n<text text-anchor=\"middle\" x=\"187.5\" y=\"-96.8\" font-family=\"Helvetica,sans-Serif\" font-size=\"14.00\">class = &#45;1</text>\n</g>\n<!-- 0&#45;&gt;1 -->\n<g id=\"edge1\" class=\"edge\">\n<title>0&#45;&gt;1</title>\n<path fill=\"none\" stroke=\"black\" d=\"M236.8,-192.88C230.55,-184.15 223.73,-174.62 217.21,-165.51\"/>\n<polygon fill=\"black\" stroke=\"black\" points=\"220,-163.39 211.33,-157.3 214.31,-167.47 220,-163.39\"/>\n<text text-anchor=\"middle\" x=\"207.24\" y=\"-178.26\" font-family=\"Helvetica,sans-Serif\" font-size=\"14.00\">True</text>\n</g>\n<!-- 4 -->\n<g id=\"node5\" class=\"node\">\n<title>4</title>\n<polygon fill=\"#4da7e8\" stroke=\"black\" points=\"400.5,-157 268.5,-157 268.5,-89 400.5,-89 400.5,-157\"/>\n<text text-anchor=\"middle\" x=\"334.5\" y=\"-141.8\" font-family=\"Helvetica,sans-Serif\" font-size=\"14.00\">ndays_act &lt;= 8.5</text>\n<text text-anchor=\"middle\" x=\"334.5\" y=\"-126.8\" font-family=\"Helvetica,sans-Serif\" font-size=\"14.00\">samples = 3385</text>\n<text text-anchor=\"middle\" x=\"334.5\" y=\"-111.8\" font-family=\"Helvetica,sans-Serif\" font-size=\"14.00\">value = [307, 3078]</text>\n<text text-anchor=\"middle\" x=\"334.5\" y=\"-96.8\" font-family=\"Helvetica,sans-Serif\" font-size=\"14.00\">class = 1</text>\n</g>\n<!-- 0&#45;&gt;4 -->\n<g id=\"edge4\" class=\"edge\">\n<title>0&#45;&gt;4</title>\n<path fill=\"none\" stroke=\"black\" d=\"M284.53,-192.88C290.86,-184.15 297.77,-174.62 304.38,-165.51\"/>\n<polygon fill=\"black\" stroke=\"black\" points=\"307.3,-167.45 310.34,-157.3 301.64,-163.34 307.3,-167.45\"/>\n<text text-anchor=\"middle\" x=\"314.27\" y=\"-178.29\" font-family=\"Helvetica,sans-Serif\" font-size=\"14.00\">False</text>\n</g>\n<!-- 2 -->\n<g id=\"node3\" class=\"node\">\n<title>2</title>\n<polygon fill=\"#e5823a\" stroke=\"black\" points=\"117,-53 0,-53 0,0 117,0 117,-53\"/>\n<text text-anchor=\"middle\" x=\"58.5\" y=\"-37.8\" font-family=\"Helvetica,sans-Serif\" font-size=\"14.00\">samples = 1462</text>\n<text text-anchor=\"middle\" x=\"58.5\" y=\"-22.8\" font-family=\"Helvetica,sans-Serif\" font-size=\"14.00\">value = [1453, 9]</text>\n<text text-anchor=\"middle\" x=\"58.5\" y=\"-7.8\" font-family=\"Helvetica,sans-Serif\" font-size=\"14.00\">class = &#45;1</text>\n</g>\n<!-- 1&#45;&gt;2 -->\n<g id=\"edge2\" class=\"edge\">\n<title>1&#45;&gt;2</title>\n<path fill=\"none\" stroke=\"black\" d=\"M142.38,-88.95C129.27,-79.34 114.98,-68.87 101.97,-59.34\"/>\n<polygon fill=\"black\" stroke=\"black\" points=\"103.77,-56.32 93.63,-53.24 99.63,-61.97 103.77,-56.32\"/>\n</g>\n<!-- 3 -->\n<g id=\"node4\" class=\"node\">\n<title>3</title>\n<polygon fill=\"#eeac7c\" stroke=\"black\" points=\"245.5,-53 135.5,-53 135.5,0 245.5,0 245.5,-53\"/>\n<text text-anchor=\"middle\" x=\"190.5\" y=\"-37.8\" font-family=\"Helvetica,sans-Serif\" font-size=\"14.00\">samples = 118</text>\n<text text-anchor=\"middle\" x=\"190.5\" y=\"-22.8\" font-family=\"Helvetica,sans-Serif\" font-size=\"14.00\">value = [88, 30]</text>\n<text text-anchor=\"middle\" x=\"190.5\" y=\"-7.8\" font-family=\"Helvetica,sans-Serif\" font-size=\"14.00\">class = &#45;1</text>\n</g>\n<!-- 1&#45;&gt;3 -->\n<g id=\"edge3\" class=\"edge\">\n<title>1&#45;&gt;3</title>\n<path fill=\"none\" stroke=\"black\" d=\"M188.55,-88.95C188.81,-80.72 189.09,-71.85 189.36,-63.48\"/>\n<polygon fill=\"black\" stroke=\"black\" points=\"192.86,-63.34 189.68,-53.24 185.87,-63.12 192.86,-63.34\"/>\n</g>\n<!-- 5 -->\n<g id=\"node6\" class=\"node\">\n<title>5</title>\n<polygon fill=\"#add7f4\" stroke=\"black\" points=\"394,-53 269,-53 269,0 394,0 394,-53\"/>\n<text text-anchor=\"middle\" x=\"331.5\" y=\"-37.8\" font-family=\"Helvetica,sans-Serif\" font-size=\"14.00\">samples = 416</text>\n<text text-anchor=\"middle\" x=\"331.5\" y=\"-22.8\" font-family=\"Helvetica,sans-Serif\" font-size=\"14.00\">value = [154, 262]</text>\n<text text-anchor=\"middle\" x=\"331.5\" y=\"-7.8\" font-family=\"Helvetica,sans-Serif\" font-size=\"14.00\">class = 1</text>\n</g>\n<!-- 4&#45;&gt;5 -->\n<g id=\"edge5\" class=\"edge\">\n<title>4&#45;&gt;5</title>\n<path fill=\"none\" stroke=\"black\" d=\"M333.45,-88.95C333.19,-80.72 332.91,-71.85 332.64,-63.48\"/>\n<polygon fill=\"black\" stroke=\"black\" points=\"336.13,-63.12 332.32,-53.24 329.14,-63.34 336.13,-63.12\"/>\n</g>\n<!-- 6 -->\n<g id=\"node7\" class=\"node\">\n<title>6</title>\n<polygon fill=\"#44a2e6\" stroke=\"black\" points=\"544.5,-53 412.5,-53 412.5,0 544.5,0 544.5,-53\"/>\n<text text-anchor=\"middle\" x=\"478.5\" y=\"-37.8\" font-family=\"Helvetica,sans-Serif\" font-size=\"14.00\">samples = 2969</text>\n<text text-anchor=\"middle\" x=\"478.5\" y=\"-22.8\" font-family=\"Helvetica,sans-Serif\" font-size=\"14.00\">value = [153, 2816]</text>\n<text text-anchor=\"middle\" x=\"478.5\" y=\"-7.8\" font-family=\"Helvetica,sans-Serif\" font-size=\"14.00\">class = 1</text>\n</g>\n<!-- 4&#45;&gt;6 -->\n<g id=\"edge6\" class=\"edge\">\n<title>4&#45;&gt;6</title>\n<path fill=\"none\" stroke=\"black\" d=\"M384.86,-88.95C399.78,-79.16 416.06,-68.48 430.8,-58.8\"/>\n<polygon fill=\"black\" stroke=\"black\" points=\"432.84,-61.65 439.28,-53.24 429,-55.8 432.84,-61.65\"/>\n</g>\n</g>\n</svg>\n",
            "text/plain": [
              "<graphviz.sources.Source at 0x788f9e4550c0>"
            ]
          },
          "metadata": {}
        }
      ]
    },
    {
      "cell_type": "code",
      "source": [
        "# use GridsearchCV to find the best settings of hyperparameters\n",
        "from sklearn.model_selection import GridSearchCV\n",
        "\n",
        "hyperparameters = {'min_samples_leaf': [5,10,100], 'max_depth': [2,10,30]}\n",
        "\n",
        "search = GridSearchCV(\n",
        "    estimator = DecisionTreeClassifier(),\n",
        "    param_grid = hyperparameters,\n",
        "    cv=7,\n",
        "    return_train_score=True\n",
        "    )\n",
        "\n",
        "search.fit(train_data[features], train_data[target])\n",
        "print(search.best_params_)"
      ],
      "metadata": {
        "colab": {
          "base_uri": "https://localhost:8080/"
        },
        "id": "Ne6tWa4_OXvg",
        "outputId": "bd11c1cf-cb5a-46bb-8b99-38e28d8f5114"
      },
      "execution_count": null,
      "outputs": [
        {
          "output_type": "stream",
          "name": "stdout",
          "text": [
            "{'max_depth': 30, 'min_samples_leaf': 5}\n"
          ]
        }
      ]
    },
    {
      "cell_type": "code",
      "source": [
        "# Train model with best parameters\n",
        "dt_best_model = search.best_estimator_\n",
        "dt_best_model.fit(train_data[features], train_data[target])\n",
        "\n",
        "# Predict on validation data with best model\n",
        "dt_val_best_pred = dt_best_model.predict(val_data[features])\n",
        "dt_val_best_score = dt_best_model.score(val_data[features], val_data[target])\n",
        "print(\"Validation accuracy of the best Decision Tree model:\", dt_val_best_score)"
      ],
      "metadata": {
        "colab": {
          "base_uri": "https://localhost:8080/"
        },
        "id": "imO2GFKqO_wK",
        "outputId": "525ad52b-6c20-4c1a-def1-e6603c7c8065"
      },
      "execution_count": null,
      "outputs": [
        {
          "output_type": "stream",
          "name": "stdout",
          "text": [
            "Validation accuracy of the best Decision Tree model: 0.9504065040650407\n"
          ]
        }
      ]
    },
    {
      "cell_type": "code",
      "source": [
        "# Function to visualize the confusion matrix\n",
        "def visualize_confusion_matrix(y_true, y_pred, score):\n",
        "    cm = confusion_matrix(y_true, y_pred)\n",
        "    plt.figure(figsize=(7, 5))\n",
        "    sns.heatmap(cm, annot=True, fmt='d', cmap='Blues')\n",
        "    plt.xlabel('Predicted')\n",
        "    plt.ylabel('True')\n",
        "    plt.title(f'Confusion Matrix - Accuracy: {score:.2f}')\n",
        "    plt.show()\n",
        "\n",
        "# Visualize the confusion matrix for two models\n",
        "visualize_confusion_matrix(val_data[target], dt_val_pred, dt_score)\n",
        "visualize_confusion_matrix(val_data[target], dt_val_best_pred, dt_val_best_score)\n"
      ],
      "metadata": {
        "colab": {
          "base_uri": "https://localhost:8080/",
          "height": 957
        },
        "id": "7Q_rsMKl2002",
        "outputId": "c8e00997-9806-4807-e767-368c05feccc7"
      },
      "execution_count": null,
      "outputs": [
        {
          "output_type": "display_data",
          "data": {
            "text/plain": [
              "<Figure size 700x500 with 2 Axes>"
            ],
            "image/png": "[encoded data removed]"
          },
          "metadata": {}
        },
        {
          "output_type": "display_data",
          "data": {
            "text/plain": [
              "<Figure size 700x500 with 2 Axes>"
            ],
            "image/png": "[encoded data removed]"
          },
          "metadata": {}
        }
      ]
    },
    {
      "cell_type": "code",
      "source": [
        "results = search.cv_results_\n",
        "plt.figure(figsize=(5, 3))\n",
        "\n",
        "# Ensure the results contain numeric values for plotting\n",
        "import numpy as np\n",
        "\n",
        "train_error = 1 - results['mean_train_score']\n",
        "val_error = 1 - results['mean_test_score']\n",
        "\n",
        "# Check if the parameter grid results are numeric\n",
        "plt.figure(figsize=(14, 7))\n",
        "plt.plot(results['param_max_depth'], train_error, label='Train Error', marker='o')\n",
        "plt.plot(results['param_max_depth'], val_error, label='Validation Error', marker='o')\n",
        "\n",
        "plt.xlabel('Max Depth')\n",
        "plt.ylabel('Error')\n",
        "plt.title('Train and Validation Error vs. Max Depth')\n",
        "plt.legend()\n",
        "plt.grid(True)\n",
        "plt.show()\n"
      ],
      "metadata": {
        "colab": {
          "base_uri": "https://localhost:8080/",
          "height": 617
        },
        "id": "pBgeLFhUXyWk",
        "outputId": "e44da97e-1d97-444c-82bb-4c22786e56a8"
      },
      "execution_count": null,
      "outputs": [
        {
          "output_type": "display_data",
          "data": {
            "text/plain": [
              "<Figure size 500x300 with 0 Axes>"
            ]
          },
          "metadata": {}
        },
        {
          "output_type": "display_data",
          "data": {
            "text/plain": [
              "<Figure size 1400x700 with 1 Axes>"
            ],
            "image/png": "[encoded data removed]"
          },
          "metadata": {}
        }
      ]
    },
    {
      "cell_type": "markdown",
      "source": [
        "#### Classification model 2: K-NN"
      ],
      "metadata": {
        "id": "GQXFIIKGQvBK"
      }
    },
    {
      "cell_type": "markdown",
      "source": [
        "I can basically use the same preprocessing and one-hot encodings, target and features for the decision trees set above, so no need to repeat."
      ],
      "metadata": {
        "id": "VaBGZvwO_jDx"
      }
    },
    {
      "cell_type": "code",
      "source": [
        "# initial model\n",
        "\n",
        "import sklearn\n",
        "from sklearn.neighbors import KNeighborsClassifier\n",
        "\n",
        "knn1 = sklearn.neighbors.KNeighborsClassifier(n_neighbors = 5)\n",
        "\n",
        "knn1.fit(train_data[features], train_data[target])\n",
        "\n",
        "knn1_val_pred = dt.predict(val_data[features])\n",
        "knn1_score = dt.score(val_data[features], val_data[target])\n",
        "\n",
        "print(f'accuracy for the initial knn model: {knn1_score}')"
      ],
      "metadata": {
        "colab": {
          "base_uri": "https://localhost:8080/"
        },
        "id": "ajzGLnxmPWQ7",
        "outputId": "7c8fc004-30f7-4f39-d169-c3c0a8f83245"
      },
      "execution_count": null,
      "outputs": [
        {
          "output_type": "stream",
          "name": "stdout",
          "text": [
            "accuracy for the initial knn model: 0.9585365853658536\n"
          ]
        }
      ]
    },
    {
      "cell_type": "code",
      "source": [
        "from sklearn.neighbors import KNeighborsClassifier\n",
        "from sklearn.metrics import accuracy_score\n",
        "from sklearn.model_selection import GridSearchCV, train_test_split\n",
        "from sklearn.impute import SimpleImputer\n",
        "from sklearn.pipeline import Pipeline\n",
        "from sklearn.preprocessing import StandardScaler\n",
        "\n",
        "# Define the parameter grid\n",
        "param_grid = {'knn__n_neighbors': [1, 2, 3, 4, 5, 10, 20, 30]}\n",
        "\n",
        "# Create a pipeline with an imputer and a KNN classifier\n",
        "pipeline = Pipeline([\n",
        "    ('imputer', SimpleImputer(strategy='mean')),\n",
        "    ('scaler', StandardScaler()),\n",
        "    ('knn', KNeighborsClassifier())\n",
        "])\n",
        "\n",
        "# Initialize GridSearchCV\n",
        "grid_search = GridSearchCV(pipeline, param_grid, cv=7, return_train_score=True)\n",
        "\n",
        "# Fit GridSearchCV\n",
        "grid_search.fit(train_data[features], train_data[target])\n",
        "\n",
        "# get the best model:\n",
        "best_knn = grid_search.best_estimator_\n",
        "best_n_neighbors = grid_search.best_params_['knn__n_neighbors']\n",
        "best_cross_val_score = grid_search.best_score_\n",
        "\n",
        "print(f\"\\nBest n_neighbors setting is {best_n_neighbors} with Cross-Validation Accuracy of {best_cross_val_score}\")\n",
        "\n",
        "# Predict and evaluate on validation data\n",
        "val_y_pred = best_knn.predict(val_data[features])\n",
        "knn_best_val_score = accuracy_score(val_data[target], val_y_pred)\n",
        "print(f\"Validation Accuracy of best KNN model: {knn_best_val_score}\")\n",
        "\n",
        "# Plot train and validation accuracy scores\n",
        "results = grid_search.cv_results_\n",
        "plt.figure(figsize=(12, 6))\n",
        "plt.plot(param_grid['knn__n_neighbors'], results['mean_train_score'], marker='o', label='Train Accuracy')\n",
        "plt.plot(param_grid['knn__n_neighbors'], results['mean_test_score'], marker='o', label='Validation Accuracy')\n",
        "plt.title('Train and Validation Accuracy vs. n_neighbors')\n",
        "plt.xlabel('Number of Neighbors (n_neighbors)')\n",
        "plt.ylabel('Accuracy')\n",
        "plt.legend()\n",
        "plt.grid(True)\n",
        "plt.show()"
      ],
      "metadata": {
        "colab": {
          "base_uri": "https://localhost:8080/",
          "height": 618
        },
        "id": "aE6G7T9KlvQr",
        "outputId": "a75a2039-e80e-42b5-fe9c-6000bac45ef4"
      },
      "execution_count": null,
      "outputs": [
        {
          "output_type": "stream",
          "name": "stdout",
          "text": [
            "\n",
            "Best n_neighbors setting is 3 with Cross-Validation Accuracy of 0.9000998941462598\n",
            "Validation Accuracy of best KNN model: 0.908130081300813\n"
          ]
        },
        {
          "output_type": "display_data",
          "data": {
            "text/plain": [
              "<Figure size 1200x600 with 1 Axes>"
            ],
            "image/png": "[encoded data removed]"
          },
          "metadata": {}
        }
      ]
    },
    {
      "cell_type": "markdown",
      "source": [
        "#### **Compare models**#"
      ],
      "metadata": {
        "id": "G3XtZGZ7GBri"
      }
    },
    {
      "cell_type": "code",
      "source": [
        "from sklearn.metrics import accuracy_score, classification_report, confusion_matrix\n",
        "\n",
        "def visualize_confusion_matrix(y_true, y_pred, score):\n",
        "    cm = confusion_matrix(y_true, y_pred)\n",
        "    plt.figure(figsize=(7, 5))\n",
        "    sns.heatmap(cm, annot=True, fmt='d', cmap='Blues')\n",
        "    plt.xlabel('Predicted')\n",
        "    plt.ylabel('True')\n",
        "    plt.title(f'Confusion Matrix - Accuracy: {score:.2f}')\n",
        "    plt.show()\n",
        "\n",
        "# decision tree best accuracy score\n",
        "print(\"Decision Tree Validation Accuracy:\", dt_val_best_score)\n",
        "print(\"Decision Tree Classification Report:\\n\", classification_report(val_data[target], dt_val_pred))\n",
        "visualize_confusion_matrix(val_data[target], dt_val_best_pred, dt_val_best_score)"
      ],
      "metadata": {
        "colab": {
          "base_uri": "https://localhost:8080/",
          "height": 683
        },
        "id": "YUFi3EqrGGi9",
        "outputId": "cb2c5161-55b9-4c5d-cd5b-b5e1946548df"
      },
      "execution_count": null,
      "outputs": [
        {
          "output_type": "stream",
          "name": "stdout",
          "text": [
            "Decision Tree Validation Accuracy: 0.9504065040650407\n",
            "Decision Tree Classification Report:\n",
            "               precision    recall  f1-score   support\n",
            "\n",
            "          -1       0.95      0.99      0.97       772\n",
            "           1       0.98      0.91      0.94       458\n",
            "\n",
            "    accuracy                           0.96      1230\n",
            "   macro avg       0.96      0.95      0.95      1230\n",
            "weighted avg       0.96      0.96      0.96      1230\n",
            "\n"
          ]
        },
        {
          "output_type": "display_data",
          "data": {
            "text/plain": [
              "<Figure size 700x500 with 2 Axes>"
            ],
            "image/png": "[encoded data removed]"
          },
          "metadata": {}
        }
      ]
    },
    {
      "cell_type": "code",
      "source": [
        "# k-NN best accuracy score\n",
        "print(f\"K-NN Validation Accuracy: {knn_best_val_score}\")\n",
        "print(\"K-NN Classification Report:\\n\", classification_report(val_data[target], val_y_pred))\n",
        "visualize_confusion_matrix(val_data[target], val_y_pred, knn_best_val_score)"
      ],
      "metadata": {
        "colab": {
          "base_uri": "https://localhost:8080/",
          "height": 683
        },
        "id": "LuTZ_9g5HMpo",
        "outputId": "5c7c8bf2-6e52-4837-f7d3-d4131a1de233"
      },
      "execution_count": null,
      "outputs": [
        {
          "output_type": "stream",
          "name": "stdout",
          "text": [
            "K-NN Validation Accuracy: 0.908130081300813\n",
            "K-NN Classification Report:\n",
            "               precision    recall  f1-score   support\n",
            "\n",
            "          -1       0.93      0.93      0.93       772\n",
            "           1       0.88      0.88      0.88       458\n",
            "\n",
            "    accuracy                           0.91      1230\n",
            "   macro avg       0.90      0.90      0.90      1230\n",
            "weighted avg       0.91      0.91      0.91      1230\n",
            "\n"
          ]
        },
        {
          "output_type": "display_data",
          "data": {
            "text/plain": [
              "<Figure size 700x500 with 2 Axes>"
            ],
            "image/png": "[encoded data removed]"
          },
          "metadata": {}
        }
      ]
    },
    {
      "cell_type": "code",
      "source": [
        "# Plot the accuracy scores\n",
        "plt.figure(figsize=(12, 6))\n",
        "plt.plot(param_grid['knn__n_neighbors'], grid_search.cv_results_['mean_test_score'], marker='o', label='KNN Validation Accuracy')\n",
        "plt.axhline(y=dt_val_best_score, color='r', linestyle='--', label='Decision Tree Validation Accuracy')\n",
        "plt.title('Validation Accuracy Comparison')\n",
        "plt.xlabel('Number of Neighbors (KNN)')\n",
        "plt.ylabel('Accuracy')\n",
        "plt.legend()\n",
        "plt.grid(True)\n",
        "plt.show()"
      ],
      "metadata": {
        "colab": {
          "base_uri": "https://localhost:8080/",
          "height": 564
        },
        "collapsed": true,
        "id": "wjC502LuQ05w",
        "outputId": "83a7310c-a163-4624-b372-e37aee291734"
      },
      "execution_count": null,
      "outputs": [
        {
          "output_type": "display_data",
          "data": {
            "text/plain": [
              "<Figure size 1200x600 with 1 Axes>"
            ],
            "image/png": "[encoded data removed]"
          },
          "metadata": {}
        }
      ]
    },
    {
      "cell_type": "code",
      "source": [
        "\n",
        "# compare accuracies\n",
        "if dt_val_best_score> knn_best_val_score:\n",
        "    best_model = dt_best_model\n",
        "    print(\"Decision Tree is the best model with validation accuracy:\", dt_val_best_score)\n",
        "else:\n",
        "    best_model = best_knn\n",
        "    print(\"KNN is the best model with validation accuracy of\", knn_best_val_score)"
      ],
      "metadata": {
        "colab": {
          "base_uri": "https://localhost:8080/"
        },
        "id": "ebeVnDjaIlT6",
        "outputId": "19b623d0-268b-46eb-f6fe-2eff07816859"
      },
      "execution_count": null,
      "outputs": [
        {
          "output_type": "stream",
          "name": "stdout",
          "text": [
            "Decision Tree is the best model with validation accuracy: 0.9504065040650407\n"
          ]
        }
      ]
    },
    {
      "cell_type": "markdown",
      "source": [
        "#### Preprocess test set and submissions"
      ],
      "metadata": {
        "id": "K83COi5jM8tQ"
      }
    },
    {
      "cell_type": "code",
      "source": [
        "df_test = pd.read_csv('edx_test.csv')\n",
        "\n",
        "# Save the userid_DI column beforehand\n",
        "to_save = df_test[['userid_DI']].copy()\n",
        "\n",
        "# run the prediction\n",
        "## preprocess test set like did in train set\n",
        "df_test = df_test.applymap(lambda x: int(x) if isinstance(x, bool) else x)\n",
        "df_test['gender'].fillna('unknown', inplace=True)\n",
        "df_test['LoE_DI'].fillna('unknown', inplace=True)\n",
        "df_test['YoB'].fillna(df_test['YoB'].median(), inplace=True)\n",
        "df_test['nplay_video'].fillna(0, inplace=True)\n",
        "df_test.replace('?', np.nan, inplace=True)\n",
        "\n",
        "## One-hot encode test data\n",
        "df_test = pd.get_dummies(df_test)\n",
        "\n",
        "## Ensure the columns order is same as train data\n",
        "df_test = df_test[train_data.columns.drop('certified')]\n",
        "df_test.fillna(0, inplace=True)\n",
        "\n",
        "## The code to make the predictions using the better model, decision tree classifier, on the test data\n",
        "predictions = dt_best_model.predict(df_test)\n",
        "\n",
        "# Save the predictions along with the userid_DI\n",
        "to_save.loc[:, 'certified'] = predictions\n",
        "\n",
        "# Recode the values back to certified == 1 and 0.\n",
        "to_save['certified'] = to_save['certified'].apply(lambda x : +1 if x==1 else 0)\n",
        "\n",
        "to_save.to_csv('submission.csv', index=False)\n"
      ],
      "metadata": {
        "id": "cOJWHswpJSky"
      },
      "execution_count": null,
      "outputs": []
    },
    {
      "cell_type": "code",
      "source": [
        "print(len(to_save[to_save['certified'] == 1]))\n",
        "print(len(to_save[to_save['certified'] == 0]))\n",
        "print(len(to_save))"
      ],
      "metadata": {
        "colab": {
          "base_uri": "https://localhost:8080/"
        },
        "id": "hE3J3aVfbtMi",
        "outputId": "582d30c7-1b2c-4005-8217-bcb1cba0d6de"
      },
      "execution_count": null,
      "outputs": [
        {
          "output_type": "stream",
          "name": "stdout",
          "text": [
            "1274\n",
            "1646\n",
            "2920\n"
          ]
        }
      ]
    },
    {
      "cell_type": "code",
      "source": [
        "to_save\n"
      ],
      "metadata": {
        "colab": {
          "base_uri": "https://localhost:8080/",
          "height": 424
        },
        "id": "8FdFw6bsYqKI",
        "outputId": "4d6d72e3-db50-43a6-b6a5-a48a94ce0fc3"
      },
      "execution_count": null,
      "outputs": [
        {
          "output_type": "execute_result",
          "data": {
            "text/plain": [
              "           userid_DI  certified\n",
              "0     MHxPC130476531          1\n",
              "1     MHxPC130559898          0\n",
              "2     MHxPC130552712          1\n",
              "3     MHxPC130394971          1\n",
              "4     MHxPC130191077          1\n",
              "...              ...        ...\n",
              "2915  MHxPC130421523          0\n",
              "2916  MHxPC130116114          0\n",
              "2917  MHxPC130239033          0\n",
              "2918  MHxPC130445460          0\n",
              "2919  MHxPC130133406          0\n",
              "\n",
              "[2920 rows x 2 columns]"
            ],
            "text/html": [
              "\n",
              "  <div id=\"df-e57a24c5-694b-48b0-8904-7a89bb57aced\" class=\"colab-df-container\">\n",
              "    <div>\n",
              "<style scoped>\n",
              "    .dataframe tbody tr th:only-of-type {\n",
              "        vertical-align: middle;\n",
              "    }\n",
              "\n",
              "    .dataframe tbody tr th {\n",
              "        vertical-align: top;\n",
              "    }\n",
              "\n",
              "    .dataframe thead th {\n",
              "        text-align: right;\n",
              "    }\n",
              "</style>\n",
              "<table border=\"1\" class=\"dataframe\">\n",
              "  <thead>\n",
              "    <tr style=\"text-align: right;\">\n",
              "      <th></th>\n",
              "      <th>userid_DI</th>\n",
              "      <th>certified</th>\n",
              "    </tr>\n",
              "  </thead>\n",
              "  <tbody>\n",
              "    <tr>\n",
              "      <th>0</th>\n",
              "      <td>MHxPC130476531</td>\n",
              "      <td>1</td>\n",
              "    </tr>\n",
              "    <tr>\n",
              "      <th>1</th>\n",
              "      <td>MHxPC130559898</td>\n",
              "      <td>0</td>\n",
              "    </tr>\n",
              "    <tr>\n",
              "      <th>2</th>\n",
              "      <td>MHxPC130552712</td>\n",
              "      <td>1</td>\n",
              "    </tr>\n",
              "    <tr>\n",
              "      <th>3</th>\n",
              "      <td>MHxPC130394971</td>\n",
              "      <td>1</td>\n",
              "    </tr>\n",
              "    <tr>\n",
              "      <th>4</th>\n",
              "      <td>MHxPC130191077</td>\n",
              "      <td>1</td>\n",
              "    </tr>\n",
              "    <tr>\n",
              "      <th>...</th>\n",
              "      <td>...</td>\n",
              "      <td>...</td>\n",
              "    </tr>\n",
              "    <tr>\n",
              "      <th>2915</th>\n",
              "      <td>MHxPC130421523</td>\n",
              "      <td>0</td>\n",
              "    </tr>\n",
              "    <tr>\n",
              "      <th>2916</th>\n",
              "      <td>MHxPC130116114</td>\n",
              "      <td>0</td>\n",
              "    </tr>\n",
              "    <tr>\n",
              "      <th>2917</th>\n",
              "      <td>MHxPC130239033</td>\n",
              "      <td>0</td>\n",
              "    </tr>\n",
              "    <tr>\n",
              "      <th>2918</th>\n",
              "      <td>MHxPC130445460</td>\n",
              "      <td>0</td>\n",
              "    </tr>\n",
              "    <tr>\n",
              "      <th>2919</th>\n",
              "      <td>MHxPC130133406</td>\n",
              "      <td>0</td>\n",
              "    </tr>\n",
              "  </tbody>\n",
              "</table>\n",
              "<p>2920 rows × 2 columns</p>\n",
              "</div>\n",
              "    <div class=\"colab-df-buttons\">\n",
              "\n",
              "  <div class=\"colab-df-container\">\n",
              "    <button class=\"colab-df-convert\" onclick=\"convertToInteractive('df-e57a24c5-694b-48b0-8904-7a89bb57aced')\"\n",
              "            title=\"Convert this dataframe to an interactive table.\"\n",
              "            style=\"display:none;\">\n",
              "\n",
              "  <svg xmlns=\"http://www.w3.org/2000/svg\" height=\"24px\" viewBox=\"0 -960 960 960\">\n",
              "    <path d=\"M120-120v-720h720v720H120Zm60-500h600v-160H180v160Zm220 220h160v-160H400v160Zm0 220h160v-160H400v160ZM180-400h160v-160H180v160Zm440 0h160v-160H620v160ZM180-180h160v-160H180v160Zm440 0h160v-160H620v160Z\"/>\n",
              "  </svg>\n",
              "    </button>\n",
              "\n",
              "  <style>\n",
              "    .colab-df-container {\n",
              "      display:flex;\n",
              "      gap: 12px;\n",
              "    }\n",
              "\n",
              "    .colab-df-convert {\n",
              "      background-color: #E8F0FE;\n",
              "      border: none;\n",
              "      border-radius: 50%;\n",
              "      cursor: pointer;\n",
              "      display: none;\n",
              "      fill: #1967D2;\n",
              "      height: 32px;\n",
              "      padding: 0 0 0 0;\n",
              "      width: 32px;\n",
              "    }\n",
              "\n",
              "    .colab-df-convert:hover {\n",
              "      background-color: #E2EBFA;\n",
              "      box-shadow: 0px 1px 2px rgba(60, 64, 67, 0.3), 0px 1px 3px 1px rgba(60, 64, 67, 0.15);\n",
              "      fill: #174EA6;\n",
              "    }\n",
              "\n",
              "    .colab-df-buttons div {\n",
              "      margin-bottom: 4px;\n",
              "    }\n",
              "\n",
              "    [theme=dark] .colab-df-convert {\n",
              "      background-color: #3B4455;\n",
              "      fill: #D2E3FC;\n",
              "    }\n",
              "\n",
              "    [theme=dark] .colab-df-convert:hover {\n",
              "      background-color: #434B5C;\n",
              "      box-shadow: 0px 1px 3px 1px rgba(0, 0, 0, 0.15);\n",
              "      filter: drop-shadow(0px 1px 2px rgba(0, 0, 0, 0.3));\n",
              "      fill: #FFFFFF;\n",
              "    }\n",
              "  </style>\n",
              "\n",
              "    <script>\n",
              "      const buttonEl =\n",
              "        document.querySelector('#df-e57a24c5-694b-48b0-8904-7a89bb57aced button.colab-df-convert');\n",
              "      buttonEl.style.display =\n",
              "        google.colab.kernel.accessAllowed ? 'block' : 'none';\n",
              "\n",
              "      async function convertToInteractive(key) {\n",
              "        const element = document.querySelector('#df-e57a24c5-694b-48b0-8904-7a89bb57aced');\n",
              "        const dataTable =\n",
              "          await google.colab.kernel.invokeFunction('convertToInteractive',\n",
              "                                                    [key], {});\n",
              "        if (!dataTable) return;\n",
              "\n",
              "        const docLinkHtml = 'Like what you see? Visit the ' +\n",
              "          '<a target=\"_blank\" href=https://colab.research.google.com/notebooks/data_table.ipynb>data table notebook</a>'\n",
              "          + ' to learn more about interactive tables.';\n",
              "        element.innerHTML = '';\n",
              "        dataTable['output_type'] = 'display_data';\n",
              "        await google.colab.output.renderOutput(dataTable, element);\n",
              "        const docLink = document.createElement('div');\n",
              "        docLink.innerHTML = docLinkHtml;\n",
              "        element.appendChild(docLink);\n",
              "      }\n",
              "    </script>\n",
              "  </div>\n",
              "\n",
              "\n",
              "<div id=\"df-30d8eb06-aae9-4f7b-bc26-162a509c7da7\">\n",
              "  <button class=\"colab-df-quickchart\" onclick=\"quickchart('df-30d8eb06-aae9-4f7b-bc26-162a509c7da7')\"\n",
              "            title=\"Suggest charts\"\n",
              "            style=\"display:none;\">\n",
              "\n",
              "<svg xmlns=\"http://www.w3.org/2000/svg\" height=\"24px\"viewBox=\"0 0 24 24\"\n",
              "     width=\"24px\">\n",
              "    <g>\n",
              "        <path d=\"M19 3H5c-1.1 0-2 .9-2 2v14c0 1.1.9 2 2 2h14c1.1 0 2-.9 2-2V5c0-1.1-.9-2-2-2zM9 17H7v-7h2v7zm4 0h-2V7h2v10zm4 0h-2v-4h2v4z\"/>\n",
              "    </g>\n",
              "</svg>\n",
              "  </button>\n",
              "\n",
              "<style>\n",
              "  .colab-df-quickchart {\n",
              "      --bg-color: #E8F0FE;\n",
              "      --fill-color: #1967D2;\n",
              "      --hover-bg-color: #E2EBFA;\n",
              "      --hover-fill-color: #174EA6;\n",
              "      --disabled-fill-color: #AAA;\n",
              "      --disabled-bg-color: #DDD;\n",
              "  }\n",
              "\n",
              "  [theme=dark] .colab-df-quickchart {\n",
              "      --bg-color: #3B4455;\n",
              "      --fill-color: #D2E3FC;\n",
              "      --hover-bg-color: #434B5C;\n",
              "      --hover-fill-color: #FFFFFF;\n",
              "      --disabled-bg-color: #3B4455;\n",
              "      --disabled-fill-color: #666;\n",
              "  }\n",
              "\n",
              "  .colab-df-quickchart {\n",
              "    background-color: var(--bg-color);\n",
              "    border: none;\n",
              "    border-radius: 50%;\n",
              "    cursor: pointer;\n",
              "    display: none;\n",
              "    fill: var(--fill-color);\n",
              "    height: 32px;\n",
              "    padding: 0;\n",
              "    width: 32px;\n",
              "  }\n",
              "\n",
              "  .colab-df-quickchart:hover {\n",
              "    background-color: var(--hover-bg-color);\n",
              "    box-shadow: 0 1px 2px rgba(60, 64, 67, 0.3), 0 1px 3px 1px rgba(60, 64, 67, 0.15);\n",
              "    fill: var(--button-hover-fill-color);\n",
              "  }\n",
              "\n",
              "  .colab-df-quickchart-complete:disabled,\n",
              "  .colab-df-quickchart-complete:disabled:hover {\n",
              "    background-color: var(--disabled-bg-color);\n",
              "    fill: var(--disabled-fill-color);\n",
              "    box-shadow: none;\n",
              "  }\n",
              "\n",
              "  .colab-df-spinner {\n",
              "    border: 2px solid var(--fill-color);\n",
              "    border-color: transparent;\n",
              "    border-bottom-color: var(--fill-color);\n",
              "    animation:\n",
              "      spin 1s steps(1) infinite;\n",
              "  }\n",
              "\n",
              "  @keyframes spin {\n",
              "    0% {\n",
              "      border-color: transparent;\n",
              "      border-bottom-color: var(--fill-color);\n",
              "      border-left-color: var(--fill-color);\n",
              "    }\n",
              "    20% {\n",
              "      border-color: transparent;\n",
              "      border-left-color: var(--fill-color);\n",
              "      border-top-color: var(--fill-color);\n",
              "    }\n",
              "    30% {\n",
              "      border-color: transparent;\n",
              "      border-left-color: var(--fill-color);\n",
              "      border-top-color: var(--fill-color);\n",
              "      border-right-color: var(--fill-color);\n",
              "    }\n",
              "    40% {\n",
              "      border-color: transparent;\n",
              "      border-right-color: var(--fill-color);\n",
              "      border-top-color: var(--fill-color);\n",
              "    }\n",
              "    60% {\n",
              "      border-color: transparent;\n",
              "      border-right-color: var(--fill-color);\n",
              "    }\n",
              "    80% {\n",
              "      border-color: transparent;\n",
              "      border-right-color: var(--fill-color);\n",
              "      border-bottom-color: var(--fill-color);\n",
              "    }\n",
              "    90% {\n",
              "      border-color: transparent;\n",
              "      border-bottom-color: var(--fill-color);\n",
              "    }\n",
              "  }\n",
              "</style>\n",
              "\n",
              "  <script>\n",
              "    async function quickchart(key) {\n",
              "      const quickchartButtonEl =\n",
              "        document.querySelector('#' + key + ' button');\n",
              "      quickchartButtonEl.disabled = true;  // To prevent multiple clicks.\n",
              "      quickchartButtonEl.classList.add('colab-df-spinner');\n",
              "      try {\n",
              "        const charts = await google.colab.kernel.invokeFunction(\n",
              "            'suggestCharts', [key], {});\n",
              "      } catch (error) {\n",
              "        console.error('Error during call to suggestCharts:', error);\n",
              "      }\n",
              "      quickchartButtonEl.classList.remove('colab-df-spinner');\n",
              "      quickchartButtonEl.classList.add('colab-df-quickchart-complete');\n",
              "    }\n",
              "    (() => {\n",
              "      let quickchartButtonEl =\n",
              "        document.querySelector('#df-30d8eb06-aae9-4f7b-bc26-162a509c7da7 button');\n",
              "      quickchartButtonEl.style.display =\n",
              "        google.colab.kernel.accessAllowed ? 'block' : 'none';\n",
              "    })();\n",
              "  </script>\n",
              "</div>\n",
              "\n",
              "  <div id=\"id_e0540d79-0955-4baa-b60b-8797d52e9559\">\n",
              "    <style>\n",
              "      .colab-df-generate {\n",
              "        background-color: #E8F0FE;\n",
              "        border: none;\n",
              "        border-radius: 50%;\n",
              "        cursor: pointer;\n",
              "        display: none;\n",
              "        fill: #1967D2;\n",
              "        height: 32px;\n",
              "        padding: 0 0 0 0;\n",
              "        width: 32px;\n",
              "      }\n",
              "\n",
              "      .colab-df-generate:hover {\n",
              "        background-color: #E2EBFA;\n",
              "        box-shadow: 0px 1px 2px rgba(60, 64, 67, 0.3), 0px 1px 3px 1px rgba(60, 64, 67, 0.15);\n",
              "        fill: #174EA6;\n",
              "      }\n",
              "\n",
              "      [theme=dark] .colab-df-generate {\n",
              "        background-color: #3B4455;\n",
              "        fill: #D2E3FC;\n",
              "      }\n",
              "\n",
              "      [theme=dark] .colab-df-generate:hover {\n",
              "        background-color: #434B5C;\n",
              "        box-shadow: 0px 1px 3px 1px rgba(0, 0, 0, 0.15);\n",
              "        filter: drop-shadow(0px 1px 2px rgba(0, 0, 0, 0.3));\n",
              "        fill: #FFFFFF;\n",
              "      }\n",
              "    </style>\n",
              "    <button class=\"colab-df-generate\" onclick=\"generateWithVariable('to_save')\"\n",
              "            title=\"Generate code using this dataframe.\"\n",
              "            style=\"display:none;\">\n",
              "\n",
              "  <svg xmlns=\"http://www.w3.org/2000/svg\" height=\"24px\"viewBox=\"0 0 24 24\"\n",
              "       width=\"24px\">\n",
              "    <path d=\"M7,19H8.4L18.45,9,17,7.55,7,17.6ZM5,21V16.75L18.45,3.32a2,2,0,0,1,2.83,0l1.4,1.43a1.91,1.91,0,0,1,.58,1.4,1.91,1.91,0,0,1-.58,1.4L9.25,21ZM18.45,9,17,7.55Zm-12,3A5.31,5.31,0,0,0,4.9,8.1,5.31,5.31,0,0,0,1,6.5,5.31,5.31,0,0,0,4.9,4.9,5.31,5.31,0,0,0,6.5,1,5.31,5.31,0,0,0,8.1,4.9,5.31,5.31,0,0,0,12,6.5,5.46,5.46,0,0,0,6.5,12Z\"/>\n",
              "  </svg>\n",
              "    </button>\n",
              "    <script>\n",
              "      (() => {\n",
              "      const buttonEl =\n",
              "        document.querySelector('#id_e0540d79-0955-4baa-b60b-8797d52e9559 button.colab-df-generate');\n",
              "      buttonEl.style.display =\n",
              "        google.colab.kernel.accessAllowed ? 'block' : 'none';\n",
              "\n",
              "      buttonEl.onclick = () => {\n",
              "        google.colab.notebook.generateWithVariable('to_save');\n",
              "      }\n",
              "      })();\n",
              "    </script>\n",
              "  </div>\n",
              "\n",
              "    </div>\n",
              "  </div>\n"
            ],
            "application/vnd.google.colaboratory.intrinsic+json": {
              "type": "dataframe",
              "variable_name": "to_save",
              "summary": "{\n  \"name\": \"to_save\",\n  \"rows\": 2920,\n  \"fields\": [\n    {\n      \"column\": \"userid_DI\",\n      \"properties\": {\n        \"dtype\": \"string\",\n        \"num_unique_values\": 2920,\n        \"samples\": [\n          \"MHxPC130362253\",\n          \"MHxPC130589088\",\n          \"MHxPC130107475\"\n        ],\n        \"semantic_type\": \"\",\n        \"description\": \"\"\n      }\n    },\n    {\n      \"column\": \"certified\",\n      \"properties\": {\n        \"dtype\": \"number\",\n        \"std\": 0,\n        \"min\": 0,\n        \"max\": 1,\n        \"num_unique_values\": 2,\n        \"samples\": [\n          0,\n          1\n        ],\n        \"semantic_type\": \"\",\n        \"description\": \"\"\n      }\n    }\n  ]\n}"
            }
          },
          "metadata": {},
          "execution_count": 65
        }
      ]
    },
    {
      "cell_type": "markdown",
      "source": [
        "### **Discussion**\n",
        "\n"
      ],
      "metadata": {
        "id": "aOwxTjy3OPh6"
      }
    },
    {
      "cell_type": "markdown",
      "source": [
        "#### **[7 Pts] Training the Models**\n",
        "\n",
        "**Instructions**: Discuss what models you tried, and what you did to improve your initial predictions. Discuss what hyperparameters you tried, and which hyperparameters seemed important for your final model. Finally, discuss what you are inferring from the above visualiation(s)."
      ],
      "metadata": {
        "id": "W8wZm-0cOe6U"
      }
    },
    {
      "cell_type": "markdown",
      "source": [
        "I tried two classification models in total, which are Decision Tree Classifier and K-Nearest Neighbors (KNN).\n",
        "\n",
        "To improve my initial predictions, i did hyperparameter tuning for two. In detailed:\n",
        "\n",
        "Decision Tree Classifier:\n",
        "*    Initial Model: set the maximum depth of 5.\n",
        "*    Hyperparameter Tuning: used GridSearchCV by setting different values for max_depth [2,10,30] and min_samples_leaf [5,10,100].\n",
        "*    Best model: According to the output, it seems like max_depth = 30 and min_samples_leaf = 5 are the best hyperparameters.\n",
        "\n",
        "K-Nearest Neighbors (KNN):\n",
        "*    Initial Model: set n_neighbors' value equal to 5.\n",
        "*    Hyperparameter Tuning: used various n neighbor settings, including: [1, 2, 3, 4, 5, 10, 20, 30].\n",
        "*    Best model: According to the output, it seems like n_neighbors setting = 3 is the best hyperparameters.\n",
        "\n",
        "\n",
        "Compare models:\n",
        "Decision tree classifier has accuracy score of 0.95, whereas KNN only has that of 0.91. Moreover, according to the confusion matrices, decision tree classifier has larger number of True Positives. In the validation accuracy comparison graph, decision tree has a constant acurracy line whereas KNN accuracy line tends to decrease when number of nearest neighbors increases. Thus, decision tree is the better classification model than the KNN model to accurately predict whether students received their certification in the course for future student data examples of the same format."
      ],
      "metadata": {
        "id": "1QFdF3wSXLgd"
      }
    },
    {
      "cell_type": "markdown",
      "source": [
        "#### **[3 Pts] Feature Selection**\n",
        "\n",
        "**Instructions**: Discuss what features you used and whether you did some transformations on them. What features seemed important for your final model?"
      ],
      "metadata": {
        "id": "4uCjBLL1Ow-Q"
      }
    },
    {
      "cell_type": "markdown",
      "source": [
        "I selected 'registered', 'viewed', 'explored' 'final_cc_cname_DI', 'LoE_DI', 'YoB', 'gender' 'nevents', 'ndays_act', 'nplay_video', 'nchapters', and 'nforum_posts' as features to be used in this model training.\n",
        "\n",
        "To transform the features, I handled the missing values. In specific:\n",
        "*    for variables 'gender' and 'LoE_DI' were filled with ‘unknown’.\n",
        "*    the missing values in variable 'YoB' and 'nplay_video' were filled with the median and zero.\n",
        "\n",
        "Next, I used one-hot encoding to transform them from categorical data into numerical data.\n",
        "\n",
        "In general, features that are relevant to students' engagement with the courses are more important than others, in which are 'nevents', 'ndays_act', 'nchapters', and 'nplay_video'."
      ],
      "metadata": {
        "id": "oOGdC9EGXKst"
      }
    },
    {
      "cell_type": "markdown",
      "source": [
        "#### **[5 Pts] Ethical Implications**\n",
        "\n",
        "**Instructions**: Consider and discuss the ethical implications of using the model you trained. Imagine you were hired to work as a data scientist for an online education platform (exciting, right?). They want to use your model to predict which students they should tailor their course material towards so they can maximize their profits. Their idea is to use the model to help predict which student groups (i.e. from specific countries or certain educational backgrounds) would make them the most money by getting the most participants to complete their paid certificate program. Are there any ethical considerations we should think about before acting on that plan?"
      ],
      "metadata": {
        "id": "nbodmlrhPCJv"
      }
    },
    {
      "cell_type": "markdown",
      "source": [
        "1. There might be representation bias in the dataset to be considered before training the model. If the model has more numbers of data for certain countries or educational backgrounds, it might cause some bias in the predictions in which favors one group over others.\n",
        "2. After the model determines the student groups that tend to have the most participants, there might also be deployment bias that the company would only prioritize that one specific student group and ignore other student groups. This could potentially cause education privilege for the dominant group and micro-discriminate other marginalized groups. If doing this for a long-term, this will potentially cause the education inequality, even discrimination for specific types of degree and students from certain countries.\n",
        "3. Moreover, students should be informed when collecting their data and know the purpose of training the model to ensure the transparency and data privacy."
      ],
      "metadata": {
        "id": "w3WVhDKSXMAt"
      }
    }
  ]
}